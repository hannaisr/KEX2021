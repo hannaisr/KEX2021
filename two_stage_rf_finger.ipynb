{
 "cells": [
  {
   "cell_type": "code",
   "execution_count": 1,
   "id": "junior-prevention",
   "metadata": {},
   "outputs": [],
   "source": [
    "import numpy as np\n",
    "import pandas as pd\n",
    "from sklearn.model_selection import train_test_split\n",
    "from sklearn.ensemble import RandomForestClassifier\n",
    "import matplotlib.pyplot as plt\n",
    "import seaborn as sn\n",
    "from sklearn.metrics import confusion_matrix\n",
    "# from sklearn.model_selection import cross_val_score"
   ]
  },
  {
   "cell_type": "code",
   "execution_count": 2,
   "id": "impossible-portland",
   "metadata": {},
   "outputs": [],
   "source": [
    "# Read the data file\n",
    "df = pd.read_pickle('10_first_ppl_100_rots.pkl')"
   ]
  },
  {
   "cell_type": "code",
   "execution_count": 3,
   "id": "identified-strengthening",
   "metadata": {},
   "outputs": [],
   "source": [
    "# --------------------------------------\n",
    "# SECOND STAGE MODEL TRAINING\n",
    "# --------------------------------------\n",
    "\n",
    "model_list_2nd_stage = []   # For storing trained models\n",
    "X_train_list_2nd_stage = [0]*5   # For storing training images, sorted by finger\n",
    "X_test_list_2nd_stage = [0]*5   # For storing testing images, sorted by finger\n",
    "y_train_list_2nd_stage = [0]*5   # For storing training identities, sorted by finger\n",
    "y_test_list_2nd_stage = [0]*5   # For storing testing identities, sorted by finger\n",
    "\n",
    "for i in range(0,5):\n",
    "    X = list(df[df.Finger==i][\"Image\"])\n",
    "    y = df[df.Finger==i][\"Identity\"]\n",
    "    X_train_list_2nd_stage[i], X_test_list_2nd_stage[i], y_train_list_2nd_stage[i], y_test_list_2nd_stage[i] = train_test_split(X,y,test_size=0.2)\n",
    "    model_list_2nd_stage.append(RandomForestClassifier())\n",
    "    model_list_2nd_stage[i].fit(X_train_list_2nd_stage[i],y_train_list_2nd_stage[i])\n",
    "    \n",
    "# --------------------------------------\n",
    "# END OF SECOND STAGE MODEL TRAINING\n",
    "# --------------------------------------"
   ]
  },
  {
   "cell_type": "code",
   "execution_count": 4,
   "id": "efficient-nicaragua",
   "metadata": {},
   "outputs": [
    {
     "data": {
      "text/plain": [
       "RandomForestClassifier()"
      ]
     },
     "execution_count": 4,
     "metadata": {},
     "output_type": "execute_result"
    }
   ],
   "source": [
    "# -------------------------------------\n",
    "# FIRST STAGE MODEL TRAINING\n",
    "# -------------------------------------\n",
    "X_train = [item for sublist in X_train_list_2nd_stage for item in sublist]\n",
    "X_test = [item for sublist in X_test_list_2nd_stage for item in sublist]\n",
    "ytr = pd.concat(y_train_list_2nd_stage) # Just for accessing the index of the object\n",
    "yte = pd.concat(y_test_list_2nd_stage) # Just for accessing the index of the object\n",
    "y_train = [] # For storing finger\n",
    "y_test = []# For storing finger\n",
    "\n",
    "for i in range(len(ytr)):\n",
    "    j = ytr.index[i]\n",
    "    y_train.append([j, df[\"Finger\"][j]])   # [index, finger]\n",
    "for i in range(len(yte)):\n",
    "    j = yte.index[i]\n",
    "    y_test.append([j, df[\"Finger\"][j]])   # [index, finger]\n",
    "\n",
    "y_train_indexfree = [i[1] for i in y_train]\n",
    "\n",
    "model_finger = RandomForestClassifier()\n",
    "model_finger.fit(X_train,y_train_indexfree) # Fit the model fo training data\n",
    "# -------------------------------------\n",
    "# END OF FIRST STAGE MODEL TRAINING\n",
    "# -------------------------------------"
   ]
  },
  {
   "cell_type": "code",
   "execution_count": 5,
   "id": "hundred-stuff",
   "metadata": {},
   "outputs": [],
   "source": [
    "# --------------------------------------\n",
    "# MODEL IMPLEMENTATION\n",
    "# --------------------------------------\n",
    "pred_finger = model_finger.predict(X_test)\n",
    "\n",
    "X_pred_list = [[]]*5  # Images sorted by predicted finger\n",
    "y_pred_list = [[]]*5  # True identities sorted by predicted finger\n",
    "\n",
    "for i in range(len(pred_finger)):\n",
    "    f = pred_finger[i]\n",
    "    X_pred_list[f] += [X_test[i]]\n",
    "    n = y_test[i][0] # Index in DataFrame\n",
    "    y_pred_list[f] += [df[\"Identity\"][n]]\n",
    "    \n",
    "pred_id_list = [[]]*5\n",
    "\n",
    "for i in range(5):\n",
    "    pred_id_list[i] = model_list_2nd_stage[i].predict(X_pred_list[i])\n",
    "# --------------------------------------\n",
    "# END OF MODEL IMPLEMENTATION\n",
    "# --------------------------------------"
   ]
  },
  {
   "cell_type": "code",
   "execution_count": 6,
   "id": "continental-cedar",
   "metadata": {},
   "outputs": [
    {
     "ename": "IndexError",
     "evalue": "list index out of range",
     "output_type": "error",
     "traceback": [
      "\u001b[0;31m---------------------------------------------------------------------------\u001b[0m",
      "\u001b[0;31mIndexError\u001b[0m                                Traceback (most recent call last)",
      "\u001b[0;32m<ipython-input-6-d0a94ac790a3>\u001b[0m in \u001b[0;36m<module>\u001b[0;34m\u001b[0m\n\u001b[1;32m     18\u001b[0m \u001b[0;31m#             print(pred_id_list[i][j])\u001b[0m\u001b[0;34m\u001b[0m\u001b[0;34m\u001b[0m\u001b[0;34m\u001b[0m\u001b[0m\n\u001b[1;32m     19\u001b[0m \u001b[0;31m#             print(df[\"Identity\"][y_test[c][0]])\u001b[0m\u001b[0;34m\u001b[0m\u001b[0;34m\u001b[0m\u001b[0;34m\u001b[0m\u001b[0m\n\u001b[0;32m---> 20\u001b[0;31m         \u001b[0mtrue_id_list\u001b[0m\u001b[0;34m.\u001b[0m\u001b[0mappend\u001b[0m\u001b[0;34m(\u001b[0m\u001b[0mdf\u001b[0m\u001b[0;34m[\u001b[0m\u001b[0;34m\"Identity\"\u001b[0m\u001b[0;34m]\u001b[0m\u001b[0;34m[\u001b[0m\u001b[0my_test\u001b[0m\u001b[0;34m[\u001b[0m\u001b[0mc\u001b[0m\u001b[0;34m]\u001b[0m\u001b[0;34m[\u001b[0m\u001b[0;36m0\u001b[0m\u001b[0;34m]\u001b[0m\u001b[0;34m]\u001b[0m\u001b[0;34m)\u001b[0m\u001b[0;34m\u001b[0m\u001b[0;34m\u001b[0m\u001b[0m\n\u001b[0m\u001b[1;32m     21\u001b[0m         \u001b[0;32mif\u001b[0m \u001b[0mpred_id_list\u001b[0m\u001b[0;34m[\u001b[0m\u001b[0mi\u001b[0m\u001b[0;34m]\u001b[0m\u001b[0;34m[\u001b[0m\u001b[0mj\u001b[0m\u001b[0;34m]\u001b[0m \u001b[0;34m==\u001b[0m \u001b[0mdf\u001b[0m\u001b[0;34m[\u001b[0m\u001b[0;34m\"Identity\"\u001b[0m\u001b[0;34m]\u001b[0m\u001b[0;34m[\u001b[0m\u001b[0my_test\u001b[0m\u001b[0;34m[\u001b[0m\u001b[0mc\u001b[0m\u001b[0;34m]\u001b[0m\u001b[0;34m[\u001b[0m\u001b[0;36m0\u001b[0m\u001b[0;34m]\u001b[0m\u001b[0;34m]\u001b[0m\u001b[0;34m:\u001b[0m\u001b[0;34m\u001b[0m\u001b[0;34m\u001b[0m\u001b[0m\n\u001b[1;32m     22\u001b[0m             \u001b[0mscore_list\u001b[0m\u001b[0;34m[\u001b[0m\u001b[0mi\u001b[0m\u001b[0;34m]\u001b[0m \u001b[0;34m+=\u001b[0m \u001b[0;36m1\u001b[0m\u001b[0;34m\u001b[0m\u001b[0;34m\u001b[0m\u001b[0m\n",
      "\u001b[0;31mIndexError\u001b[0m: list index out of range"
     ]
    }
   ],
   "source": [
    "# --------------------------------------\n",
    "# EVALUATION OF RESULTS\n",
    "# --------------------------------------\n",
    "# Calculate accuracy\n",
    "len_list = [[]]*5\n",
    "score_list = [0]*5\n",
    "score_tot = 0\n",
    "true_id_list = []\n",
    "\n",
    "for i in range(5):\n",
    "    len_list[i] = len(pred_id_list[i])\n",
    "\n",
    "c = 0\n",
    "for i in range(5):\n",
    "    siz = len_list[i]\n",
    "    for j in range(siz):\n",
    "#         if j<5:\n",
    "#             print(pred_id_list[i][j])\n",
    "#             print(df[\"Identity\"][y_test[c][0]])\n",
    "        true_id_list.append(df[\"Identity\"][y_test[c][0]])\n",
    "        if pred_id_list[i][j] == df[\"Identity\"][y_test[c][0]]:\n",
    "            score_list[i] += 1\n",
    "            score_tot += 1\n",
    "        c+=1\n",
    "#         score_list[i] = score_list[i]/siz\n",
    "    score_tot = score_tot/sum(len_list)\n",
    "\n",
    "# Print the result\n",
    "for i in range(len(score_list)):\n",
    "    print(score_list[i])\n",
    "print(score_tot)\n",
    "# --------------------------------------\n",
    "# END OF EVALUATION OF RESULTS\n",
    "# --------------------------------------"
   ]
  },
  {
   "cell_type": "code",
   "execution_count": null,
   "id": "invisible-irish",
   "metadata": {},
   "outputs": [],
   "source": [
    "# Confusion matrix\n",
    "cm = confusion_matrix(true_id_list, [item for sublist in pred_id_list for item in sublist], normalize='all') # Remove 'normalize=\"all\"' to get absolute numbers\n",
    "plt.figure()\n",
    "sn.heatmap(cm, annot=False, cmap='RdPu')\n",
    "plt.title('Confusion matrix for 2-stage prediction of identity')\n",
    "plt.xlabel('Predicted')\n",
    "plt.ylabel('Truth')"
   ]
  },
  {
   "cell_type": "code",
   "execution_count": null,
   "id": "surface-worry",
   "metadata": {},
   "outputs": [],
   "source": []
  }
 ],
 "metadata": {
  "kernelspec": {
   "display_name": "Python 3",
   "language": "python",
   "name": "python3"
  },
  "language_info": {
   "codemirror_mode": {
    "name": "ipython",
    "version": 3
   },
   "file_extension": ".py",
   "mimetype": "text/x-python",
   "name": "python",
   "nbconvert_exporter": "python",
   "pygments_lexer": "ipython3",
   "version": "3.8.5"
  }
 },
 "nbformat": 4,
 "nbformat_minor": 5
}
