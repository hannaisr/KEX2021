{
 "cells": [
  {
   "cell_type": "code",
   "execution_count": 2,
   "id": "exact-rehabilitation",
   "metadata": {},
   "outputs": [],
   "source": [
    "from scipy import ndimage, misc\n",
    "%matplotlib inline\n",
    "import matplotlib.pyplot as plt\n",
    "import pandas as pd\n",
    "import numpy as np\n",
    "import random as rnd"
   ]
  },
  {
   "cell_type": "markdown",
   "id": "minute-lottery",
   "metadata": {},
   "source": [
    "## Collect data"
   ]
  },
  {
   "cell_type": "code",
   "execution_count": 3,
   "id": "textile-worship",
   "metadata": {},
   "outputs": [],
   "source": [
    "# Constants\n",
    "FROM_FILE = \"org_imgs_newcrop.pkl\" # Pickle file to collect images from \n",
    "TO_FILE = \"org_imgs_rotated.pkl\" # Name of file to store data to\n",
    "IMG_SIZE0 = 97 # First dimension of image, should not be changed\n",
    "IMG_SIZE1 = 90 # Second dimension of image, should not be changed"
   ]
  },
  {
   "cell_type": "code",
   "execution_count": 4,
   "id": "seven-embassy",
   "metadata": {},
   "outputs": [],
   "source": [
    "# Import images to DataFrame\n",
    "df = pd.read_pickle(FROM_FILE) # Change to correct name of pickle file with images and data"
   ]
  },
  {
   "cell_type": "markdown",
   "id": "comprehensive-samuel",
   "metadata": {},
   "source": [
    "## Random rotations"
   ]
  },
  {
   "cell_type": "code",
   "execution_count": 5,
   "id": "federal-occurrence",
   "metadata": {},
   "outputs": [],
   "source": [
    "# Constants\n",
    "N_ROTATIONS = 5 # Number of rotations per image"
   ]
  },
  {
   "cell_type": "code",
   "execution_count": 14,
   "id": "selective-cabinet",
   "metadata": {},
   "outputs": [],
   "source": [
    "df = df[df[\"Identity\"]<5] # Use only a few people"
   ]
  },
  {
   "cell_type": "code",
   "execution_count": 6,
   "id": "comparative-quick",
   "metadata": {},
   "outputs": [],
   "source": [
    "def rotate_image(img):\n",
    "    deg = rnd.gauss(0,90) # Uncomment for gaussian distribution\n",
    "    # deg = rnd.uniform(0,360) # Uncomment for uniform distribution\n",
    "    img = np.reshape(img, (IMG_SIZE0,IMG_SIZE1)) # If the input array is flattened\n",
    "    img_rot = ndimage.rotate(img, deg, reshape=False, cval=255) # cval gives value to fill added edges with\n",
    "    # plt.imshow(img_rot, cmap=\"gray\") # Uncomment to see image\n",
    "    img_rot = img_rot.flatten() # If the array should be flattened\n",
    "    return img_rot"
   ]
  },
  {
   "cell_type": "code",
   "execution_count": 16,
   "id": "pending-passage",
   "metadata": {},
   "outputs": [],
   "source": [
    "# Create list of rotated images and samples information\n",
    "rot_images = []\n",
    "for i in range(len(df)):\n",
    "    data = df.iloc[i]\n",
    "    for j in range(N_ROTATIONS):\n",
    "        img_rot = rotate_image(data[0])\n",
    "        rot_images.append([img_rot, data[1],data[2],data[3],data[4]])\n",
    "# Store as DataFrame\n",
    "new_df = pd.DataFrame(rot_images, columns=[\"Image\",\"Identity\",\"Gender\",\"Hand\",\"Finger\"])"
   ]
  },
  {
   "cell_type": "code",
   "execution_count": 23,
   "id": "boolean-oxford",
   "metadata": {
    "scrolled": true
   },
   "outputs": [
    {
     "data": {
      "text/html": [
       "<div>\n",
       "<style scoped>\n",
       "    .dataframe tbody tr th:only-of-type {\n",
       "        vertical-align: middle;\n",
       "    }\n",
       "\n",
       "    .dataframe tbody tr th {\n",
       "        vertical-align: top;\n",
       "    }\n",
       "\n",
       "    .dataframe thead th {\n",
       "        text-align: right;\n",
       "    }\n",
       "</style>\n",
       "<table border=\"1\" class=\"dataframe\">\n",
       "  <thead>\n",
       "    <tr style=\"text-align: right;\">\n",
       "      <th></th>\n",
       "      <th>Image</th>\n",
       "      <th>Identity</th>\n",
       "      <th>Gender</th>\n",
       "      <th>Hand</th>\n",
       "      <th>Finger</th>\n",
       "    </tr>\n",
       "  </thead>\n",
       "  <tbody>\n",
       "    <tr>\n",
       "      <th>0</th>\n",
       "      <td>[255, 255, 255, 255, 255, 255, 255, 255, 255, ...</td>\n",
       "      <td>4</td>\n",
       "      <td>0</td>\n",
       "      <td>0</td>\n",
       "      <td>0</td>\n",
       "    </tr>\n",
       "    <tr>\n",
       "      <th>1</th>\n",
       "      <td>[255, 255, 255, 255, 255, 255, 255, 255, 255, ...</td>\n",
       "      <td>4</td>\n",
       "      <td>0</td>\n",
       "      <td>0</td>\n",
       "      <td>0</td>\n",
       "    </tr>\n",
       "    <tr>\n",
       "      <th>2</th>\n",
       "      <td>[255, 255, 255, 255, 255, 255, 255, 255, 255, ...</td>\n",
       "      <td>4</td>\n",
       "      <td>0</td>\n",
       "      <td>0</td>\n",
       "      <td>0</td>\n",
       "    </tr>\n",
       "    <tr>\n",
       "      <th>3</th>\n",
       "      <td>[255, 255, 255, 255, 255, 255, 255, 255, 255, ...</td>\n",
       "      <td>4</td>\n",
       "      <td>0</td>\n",
       "      <td>0</td>\n",
       "      <td>0</td>\n",
       "    </tr>\n",
       "    <tr>\n",
       "      <th>4</th>\n",
       "      <td>[255, 255, 255, 255, 255, 255, 255, 255, 255, ...</td>\n",
       "      <td>4</td>\n",
       "      <td>0</td>\n",
       "      <td>0</td>\n",
       "      <td>0</td>\n",
       "    </tr>\n",
       "  </tbody>\n",
       "</table>\n",
       "</div>"
      ],
      "text/plain": [
       "                                               Image  Identity  Gender  Hand  \\\n",
       "0  [255, 255, 255, 255, 255, 255, 255, 255, 255, ...         4       0     0   \n",
       "1  [255, 255, 255, 255, 255, 255, 255, 255, 255, ...         4       0     0   \n",
       "2  [255, 255, 255, 255, 255, 255, 255, 255, 255, ...         4       0     0   \n",
       "3  [255, 255, 255, 255, 255, 255, 255, 255, 255, ...         4       0     0   \n",
       "4  [255, 255, 255, 255, 255, 255, 255, 255, 255, ...         4       0     0   \n",
       "\n",
       "   Finger  \n",
       "0       0  \n",
       "1       0  \n",
       "2       0  \n",
       "3       0  \n",
       "4       0  "
      ]
     },
     "execution_count": 23,
     "metadata": {},
     "output_type": "execute_result"
    }
   ],
   "source": [
    "new_df.head(5)"
   ]
  },
  {
   "cell_type": "code",
   "execution_count": null,
   "id": "actual-attitude",
   "metadata": {},
   "outputs": [],
   "source": [
    "# Save data as pickle\n",
    "df.to_pickle(TO_FILE)"
   ]
  }
 ],
 "metadata": {
  "kernelspec": {
   "display_name": "Python 3",
   "language": "python",
   "name": "python3"
  },
  "language_info": {
   "codemirror_mode": {
    "name": "ipython",
    "version": 3
   },
   "file_extension": ".py",
   "mimetype": "text/x-python",
   "name": "python",
   "nbconvert_exporter": "python",
   "pygments_lexer": "ipython3",
   "version": "3.8.5"
  }
 },
 "nbformat": 4,
 "nbformat_minor": 5
}
