{
 "cells": [
  {
   "cell_type": "code",
   "execution_count": 1,
   "id": "accomplished-victory",
   "metadata": {},
   "outputs": [],
   "source": [
    "import numpy as np\n",
    "import pandas as pd\n",
    "import matplotlib.pyplot as plt\n",
    "import seaborn as sn\n",
    "from sklearn.model_selection import train_test_split\n",
    "from sklearn.ensemble import RandomForestClassifier\n",
    "from sklearn.metrics import confusion_matrix\n",
    "from sklearn.model_selection import cross_val_score"
   ]
  },
  {
   "cell_type": "code",
   "execution_count": 2,
   "id": "educated-parks",
   "metadata": {},
   "outputs": [],
   "source": [
    "df = pd.read_pickle('100_fingerprints_expanded_dataset.pkl')"
   ]
  },
  {
   "cell_type": "code",
   "execution_count": 3,
   "id": "present-scott",
   "metadata": {},
   "outputs": [
    {
     "data": {
      "text/plain": [
       "RandomForestClassifier()"
      ]
     },
     "execution_count": 3,
     "metadata": {},
     "output_type": "execute_result"
    }
   ],
   "source": [
    "# First stage\n",
    "# Divide into training and test sets\n",
    "X = list(df[\"Image\"])\n",
    "y = df[\"Hand\"]\n",
    "X_train, X_test, y_train, y_test = train_test_split(X,y,test_size=0.2)\n",
    "model1 = RandomForestClassifier()\n",
    "model1.fit(X_train,y_train) # Fit the model fo training data"
   ]
  },
  {
   "cell_type": "code",
   "execution_count": 4,
   "id": "primary-union",
   "metadata": {},
   "outputs": [],
   "source": [
    "dflh = df[df.Hand==0]\n",
    "dfrh = df[df.Hand==1]"
   ]
  },
  {
   "cell_type": "code",
   "execution_count": 5,
   "id": "several-badge",
   "metadata": {},
   "outputs": [
    {
     "data": {
      "text/plain": [
       "RandomForestClassifier()"
      ]
     },
     "execution_count": 5,
     "metadata": {},
     "output_type": "execute_result"
    }
   ],
   "source": [
    "# Left hand training\n",
    "Xlh = list(dflh[\"Image\"])\n",
    "ylh = dflh[\"Identity\"]\n",
    "X_trainlh, X_testlh, y_trainlh, y_testlh = train_test_split(Xlh,ylh,test_size=0.2)\n",
    "lh_model = RandomForestClassifier()\n",
    "lh_model.fit(X_trainlh,y_trainlh)\n",
    "\n",
    "# Right hand training\n",
    "Xrh = list(dfrh[\"Image\"])\n",
    "yrh = dfrh[\"Identity\"]\n",
    "X_trainrh, X_testrh, y_trainrh, y_testrh = train_test_split(Xrh,yrh,test_size=0.2)\n",
    "rh_model = RandomForestClassifier()\n",
    "rh_model.fit(X_trainrh,y_trainrh)"
   ]
  },
  {
   "cell_type": "code",
   "execution_count": 17,
   "id": "bulgarian-disposal",
   "metadata": {},
   "outputs": [],
   "source": [
    "pred = model1.predict(X_test)"
   ]
  },
  {
   "cell_type": "code",
   "execution_count": 19,
   "id": "alternative-sunset",
   "metadata": {},
   "outputs": [
    {
     "name": "stdout",
     "output_type": "stream",
     "text": [
      "[0 1 0 ... 0 0 0]\n",
      "[0 0 0 ... 0 0 1]\n"
     ]
    }
   ],
   "source": [
    "print(pred)\n",
    "print(np.array(y_test))"
   ]
  },
  {
   "cell_type": "code",
   "execution_count": 31,
   "id": "saved-shadow",
   "metadata": {},
   "outputs": [],
   "source": [
    "X_lh = []\n",
    "y_lh = []\n",
    "X_rh = []\n",
    "y_rh = []\n",
    "\n",
    "for i in range(len(pred)):\n",
    "    if pred[i]==0:\n",
    "        X_lh.append(X_test[i])\n",
    "        j = y_test.index[i]\n",
    "        y_lh.append(df[\"Identity\"][j])\n",
    "    else:\n",
    "        X_rh.append(X_test[i])\n",
    "        j = y_test.index[i]\n",
    "        y_rh.append(df[\"Identity\"][j])"
   ]
  },
  {
   "cell_type": "code",
   "execution_count": 34,
   "id": "artistic-humanitarian",
   "metadata": {},
   "outputs": [],
   "source": [
    "pred_lh = lh_model.predict(X_lh)\n",
    "pred_rh = rh_model.predict(X_rh)"
   ]
  },
  {
   "cell_type": "code",
   "execution_count": 36,
   "id": "twelve-command",
   "metadata": {},
   "outputs": [],
   "source": [
    "# Calculate accuracy\n",
    "len_lh = len(pred_lh)\n",
    "len_rh = len(pred_rh)\n",
    "score_lh = 0\n",
    "score_rh = 0\n",
    "for i in range(len_lh):\n",
    "    if pred_lh[i] == y_lh[i]:\n",
    "        score_lh += 1/len_lh\n",
    "for i in range(len_rh):\n",
    "    if pred_rh[i] == y_rh[i]:\n",
    "        score_rh += 1/len_rh"
   ]
  },
  {
   "cell_type": "code",
   "execution_count": 37,
   "id": "painful-month",
   "metadata": {},
   "outputs": [
    {
     "name": "stdout",
     "output_type": "stream",
     "text": [
      "0.6455566905005107\n",
      "0.6238981390793391\n"
     ]
    }
   ],
   "source": [
    "print(score_lh)\n",
    "print(score_rh)"
   ]
  },
  {
   "cell_type": "code",
   "execution_count": null,
   "id": "pleased-russell",
   "metadata": {},
   "outputs": [],
   "source": []
  }
 ],
 "metadata": {
  "kernelspec": {
   "display_name": "Python 3",
   "language": "python",
   "name": "python3"
  },
  "language_info": {
   "codemirror_mode": {
    "name": "ipython",
    "version": 3
   },
   "file_extension": ".py",
   "mimetype": "text/x-python",
   "name": "python",
   "nbconvert_exporter": "python",
   "pygments_lexer": "ipython3",
   "version": "3.8.5"
  }
 },
 "nbformat": 4,
 "nbformat_minor": 5
}
