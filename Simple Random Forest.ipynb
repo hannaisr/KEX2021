{
 "cells": [
  {
   "cell_type": "markdown",
   "id": "complete-ordinance",
   "metadata": {},
   "source": [
    "### Good web pages to use\n",
    "<ul>\n",
    "    <li><b>train_test_split:</b> https://scikit-learn.org/stable/modules/generated/sklearn.model_selection.train_test_split.html </li>\n",
    "    <li><b>RandomForestClassifier:</b> https://scikit-learn.org/stable/modules/generated/sklearn.ensemble.RandomForestClassifier.html </li>\n",
    "    <li><b>Confusion matrix:</b> https://scikit-learn.org/stable/modules/generated/sklearn.metrics.confusion_matrix.html</li>\n",
    "</ul>"
   ]
  },
  {
   "cell_type": "code",
   "execution_count": 1,
   "id": "based-bacon",
   "metadata": {},
   "outputs": [],
   "source": [
    "import numpy as np\n",
    "import pandas as pd\n",
    "import matplotlib.pyplot as plt\n",
    "import seaborn as sn\n",
    "from sklearn.model_selection import train_test_split\n",
    "from sklearn.ensemble import RandomForestClassifier\n",
    "from sklearn.metrics import confusion_matrix"
   ]
  },
  {
   "cell_type": "markdown",
   "id": "introductory-puzzle",
   "metadata": {},
   "source": [
    "### Pickle version"
   ]
  },
  {
   "cell_type": "code",
   "execution_count": 2,
   "id": "practical-fence",
   "metadata": {
    "scrolled": true
   },
   "outputs": [],
   "source": [
    "df = pd.read_pickle('original_images.pkl')"
   ]
  },
  {
   "cell_type": "code",
   "execution_count": 13,
   "id": "broken-garlic",
   "metadata": {},
   "outputs": [],
   "source": [
    "# Use only a subset of the images\n",
    "df = df[df[\"Identity\"]<10] # The 100 first identities"
   ]
  },
  {
   "cell_type": "code",
   "execution_count": 14,
   "id": "heated-horizon",
   "metadata": {
    "scrolled": false
   },
   "outputs": [
    {
     "data": {
      "text/html": [
       "<div>\n",
       "<style scoped>\n",
       "    .dataframe tbody tr th:only-of-type {\n",
       "        vertical-align: middle;\n",
       "    }\n",
       "\n",
       "    .dataframe tbody tr th {\n",
       "        vertical-align: top;\n",
       "    }\n",
       "\n",
       "    .dataframe thead th {\n",
       "        text-align: right;\n",
       "    }\n",
       "</style>\n",
       "<table border=\"1\" class=\"dataframe\">\n",
       "  <thead>\n",
       "    <tr style=\"text-align: right;\">\n",
       "      <th></th>\n",
       "      <th>Image</th>\n",
       "      <th>Identity</th>\n",
       "      <th>Gender</th>\n",
       "      <th>Hand</th>\n",
       "      <th>Finger</th>\n",
       "    </tr>\n",
       "  </thead>\n",
       "  <tbody>\n",
       "    <tr>\n",
       "      <th>1100</th>\n",
       "      <td>[160, 156, 156, 156, 156, 156, 156, 156, 156, ...</td>\n",
       "      <td>1</td>\n",
       "      <td>0</td>\n",
       "      <td>0</td>\n",
       "      <td>1</td>\n",
       "    </tr>\n",
       "    <tr>\n",
       "      <th>1101</th>\n",
       "      <td>[160, 156, 156, 156, 156, 156, 156, 156, 156, ...</td>\n",
       "      <td>1</td>\n",
       "      <td>0</td>\n",
       "      <td>0</td>\n",
       "      <td>4</td>\n",
       "    </tr>\n",
       "    <tr>\n",
       "      <th>1102</th>\n",
       "      <td>[160, 156, 156, 156, 156, 156, 156, 156, 156, ...</td>\n",
       "      <td>1</td>\n",
       "      <td>0</td>\n",
       "      <td>0</td>\n",
       "      <td>2</td>\n",
       "    </tr>\n",
       "    <tr>\n",
       "      <th>1103</th>\n",
       "      <td>[160, 156, 156, 156, 156, 156, 156, 156, 156, ...</td>\n",
       "      <td>1</td>\n",
       "      <td>0</td>\n",
       "      <td>0</td>\n",
       "      <td>3</td>\n",
       "    </tr>\n",
       "    <tr>\n",
       "      <th>1104</th>\n",
       "      <td>[160, 156, 156, 156, 156, 156, 156, 156, 156, ...</td>\n",
       "      <td>1</td>\n",
       "      <td>0</td>\n",
       "      <td>0</td>\n",
       "      <td>0</td>\n",
       "    </tr>\n",
       "    <tr>\n",
       "      <th>...</th>\n",
       "      <td>...</td>\n",
       "      <td>...</td>\n",
       "      <td>...</td>\n",
       "      <td>...</td>\n",
       "      <td>...</td>\n",
       "    </tr>\n",
       "    <tr>\n",
       "      <th>5995</th>\n",
       "      <td>[160, 156, 156, 156, 156, 156, 156, 156, 156, ...</td>\n",
       "      <td>9</td>\n",
       "      <td>0</td>\n",
       "      <td>1</td>\n",
       "      <td>1</td>\n",
       "    </tr>\n",
       "    <tr>\n",
       "      <th>5996</th>\n",
       "      <td>[160, 156, 156, 156, 156, 156, 156, 156, 156, ...</td>\n",
       "      <td>9</td>\n",
       "      <td>0</td>\n",
       "      <td>1</td>\n",
       "      <td>4</td>\n",
       "    </tr>\n",
       "    <tr>\n",
       "      <th>5997</th>\n",
       "      <td>[160, 156, 156, 156, 156, 156, 156, 156, 156, ...</td>\n",
       "      <td>9</td>\n",
       "      <td>0</td>\n",
       "      <td>1</td>\n",
       "      <td>2</td>\n",
       "    </tr>\n",
       "    <tr>\n",
       "      <th>5998</th>\n",
       "      <td>[160, 156, 156, 156, 156, 156, 156, 156, 156, ...</td>\n",
       "      <td>9</td>\n",
       "      <td>0</td>\n",
       "      <td>1</td>\n",
       "      <td>3</td>\n",
       "    </tr>\n",
       "    <tr>\n",
       "      <th>5999</th>\n",
       "      <td>[160, 156, 156, 156, 156, 156, 156, 156, 156, ...</td>\n",
       "      <td>9</td>\n",
       "      <td>0</td>\n",
       "      <td>1</td>\n",
       "      <td>0</td>\n",
       "    </tr>\n",
       "  </tbody>\n",
       "</table>\n",
       "<p>90 rows × 5 columns</p>\n",
       "</div>"
      ],
      "text/plain": [
       "                                                  Image  Identity  Gender  \\\n",
       "1100  [160, 156, 156, 156, 156, 156, 156, 156, 156, ...         1       0   \n",
       "1101  [160, 156, 156, 156, 156, 156, 156, 156, 156, ...         1       0   \n",
       "1102  [160, 156, 156, 156, 156, 156, 156, 156, 156, ...         1       0   \n",
       "1103  [160, 156, 156, 156, 156, 156, 156, 156, 156, ...         1       0   \n",
       "1104  [160, 156, 156, 156, 156, 156, 156, 156, 156, ...         1       0   \n",
       "...                                                 ...       ...     ...   \n",
       "5995  [160, 156, 156, 156, 156, 156, 156, 156, 156, ...         9       0   \n",
       "5996  [160, 156, 156, 156, 156, 156, 156, 156, 156, ...         9       0   \n",
       "5997  [160, 156, 156, 156, 156, 156, 156, 156, 156, ...         9       0   \n",
       "5998  [160, 156, 156, 156, 156, 156, 156, 156, 156, ...         9       0   \n",
       "5999  [160, 156, 156, 156, 156, 156, 156, 156, 156, ...         9       0   \n",
       "\n",
       "      Hand  Finger  \n",
       "1100     0       1  \n",
       "1101     0       4  \n",
       "1102     0       2  \n",
       "1103     0       3  \n",
       "1104     0       0  \n",
       "...    ...     ...  \n",
       "5995     1       1  \n",
       "5996     1       4  \n",
       "5997     1       2  \n",
       "5998     1       3  \n",
       "5999     1       0  \n",
       "\n",
       "[90 rows x 5 columns]"
      ]
     },
     "execution_count": 14,
     "metadata": {},
     "output_type": "execute_result"
    }
   ],
   "source": [
    "df # Just to check that everything looks fine"
   ]
  },
  {
   "cell_type": "code",
   "execution_count": 15,
   "id": "lyric-level",
   "metadata": {},
   "outputs": [],
   "source": [
    "# Choose which columns to be data (X) and target (y)\n",
    "X_name = \"Image\" # The data to be categorized, should be \"Image\"\n",
    "y_name = \"Identity\" # The target label. In the end, Identity\n",
    "X = list(df[X_name])\n",
    "y = df[y_name]"
   ]
  },
  {
   "cell_type": "code",
   "execution_count": 16,
   "id": "fiscal-treasure",
   "metadata": {},
   "outputs": [
    {
     "data": {
      "text/plain": [
       "(90, 8100)"
      ]
     },
     "execution_count": 16,
     "metadata": {},
     "output_type": "execute_result"
    }
   ],
   "source": [
    "np.shape(X) # Should be ([number of images], [number of pixels])"
   ]
  },
  {
   "cell_type": "markdown",
   "id": "progressive-broadcasting",
   "metadata": {},
   "source": [
    "### .csv version\n",
    "Not finished. X gas to be made into a list of integer lists. Currently consists of strings."
   ]
  },
  {
   "cell_type": "code",
   "execution_count": 2,
   "id": "bottom-bowling",
   "metadata": {},
   "outputs": [],
   "source": [
    "df = pd.read_csv('images2.csv')"
   ]
  },
  {
   "cell_type": "code",
   "execution_count": 3,
   "id": "treated-nigeria",
   "metadata": {
    "scrolled": false
   },
   "outputs": [
    {
     "data": {
      "text/html": [
       "<div>\n",
       "<style scoped>\n",
       "    .dataframe tbody tr th:only-of-type {\n",
       "        vertical-align: middle;\n",
       "    }\n",
       "\n",
       "    .dataframe tbody tr th {\n",
       "        vertical-align: top;\n",
       "    }\n",
       "\n",
       "    .dataframe thead th {\n",
       "        text-align: right;\n",
       "    }\n",
       "</style>\n",
       "<table border=\"1\" class=\"dataframe\">\n",
       "  <thead>\n",
       "    <tr style=\"text-align: right;\">\n",
       "      <th></th>\n",
       "      <th>Image</th>\n",
       "      <th>Identity</th>\n",
       "      <th>Gender</th>\n",
       "      <th>Hand</th>\n",
       "      <th>Finger</th>\n",
       "    </tr>\n",
       "  </thead>\n",
       "  <tbody>\n",
       "    <tr>\n",
       "      <th>0</th>\n",
       "      <td>[160 156 156 ...   0   0   0]</td>\n",
       "      <td>229</td>\n",
       "      <td>0</td>\n",
       "      <td>0</td>\n",
       "      <td>2</td>\n",
       "    </tr>\n",
       "    <tr>\n",
       "      <th>1</th>\n",
       "      <td>[160 156 156 ...   0   0   0]</td>\n",
       "      <td>169</td>\n",
       "      <td>1</td>\n",
       "      <td>1</td>\n",
       "      <td>4</td>\n",
       "    </tr>\n",
       "    <tr>\n",
       "      <th>2</th>\n",
       "      <td>[160 156 156 ...   0   0   0]</td>\n",
       "      <td>356</td>\n",
       "      <td>0</td>\n",
       "      <td>0</td>\n",
       "      <td>4</td>\n",
       "    </tr>\n",
       "    <tr>\n",
       "      <th>3</th>\n",
       "      <td>[160 156 156 ...   0   0   0]</td>\n",
       "      <td>352</td>\n",
       "      <td>0</td>\n",
       "      <td>0</td>\n",
       "      <td>3</td>\n",
       "    </tr>\n",
       "    <tr>\n",
       "      <th>4</th>\n",
       "      <td>[160 156 156 ...   0   0   0]</td>\n",
       "      <td>406</td>\n",
       "      <td>0</td>\n",
       "      <td>0</td>\n",
       "      <td>1</td>\n",
       "    </tr>\n",
       "  </tbody>\n",
       "</table>\n",
       "</div>"
      ],
      "text/plain": [
       "                           Image  Identity  Gender  Hand  Finger\n",
       "0  [160 156 156 ...   0   0   0]       229       0     0       2\n",
       "1  [160 156 156 ...   0   0   0]       169       1     1       4\n",
       "2  [160 156 156 ...   0   0   0]       356       0     0       4\n",
       "3  [160 156 156 ...   0   0   0]       352       0     0       3\n",
       "4  [160 156 156 ...   0   0   0]       406       0     0       1"
      ]
     },
     "execution_count": 3,
     "metadata": {},
     "output_type": "execute_result"
    }
   ],
   "source": [
    "df.head() # Just to check that everything looks fine"
   ]
  },
  {
   "cell_type": "code",
   "execution_count": 4,
   "id": "danish-correspondence",
   "metadata": {},
   "outputs": [],
   "source": [
    "# Choose which columns to be data (X) and target (y)\n",
    "X_name = \"Image\" # The data to be categorized, should be \"Image\"\n",
    "y_name = \"Finger\" # The target label. In the end, identity\n",
    "X = list(df[X_name])\n",
    "y = df[y_name]"
   ]
  },
  {
   "cell_type": "code",
   "execution_count": 12,
   "id": "accurate-retention",
   "metadata": {},
   "outputs": [],
   "source": [
    "# Make X a list of integer lists instead of strings"
   ]
  },
  {
   "cell_type": "code",
   "execution_count": 5,
   "id": "norwegian-array",
   "metadata": {},
   "outputs": [
    {
     "data": {
      "text/plain": [
       "(6000, 8100)"
      ]
     },
     "execution_count": 5,
     "metadata": {},
     "output_type": "execute_result"
    }
   ],
   "source": [
    "np.shape(X) # Should be ([number of images], [number of pixels])"
   ]
  },
  {
   "cell_type": "markdown",
   "id": "muslim-classic",
   "metadata": {},
   "source": [
    "## Data fitting"
   ]
  },
  {
   "cell_type": "code",
   "execution_count": 17,
   "id": "technological-navigation",
   "metadata": {},
   "outputs": [],
   "source": [
    "# Divide into training and test sets\n",
    "X_train, X_test, y_train, y_test = train_test_split(X,y,test_size=0.2)"
   ]
  },
  {
   "cell_type": "code",
   "execution_count": 18,
   "id": "exempt-india",
   "metadata": {},
   "outputs": [
    {
     "data": {
      "text/plain": [
       "RandomForestClassifier()"
      ]
     },
     "execution_count": 18,
     "metadata": {},
     "output_type": "execute_result"
    }
   ],
   "source": [
    "# Create the model. See link above for default values of parameters\n",
    "model = RandomForestClassifier(n_estimators=100) # Larger n_estimators takes longer to calculate\n",
    "# Build a forest of trees from the training set (X_train, y_train).\n",
    "model.fit(X_train,y_train) # Sample weight can be added, but shouldn't be necessary in our case"
   ]
  },
  {
   "cell_type": "code",
   "execution_count": 19,
   "id": "planned-music",
   "metadata": {},
   "outputs": [
    {
     "data": {
      "text/plain": [
       "0.3333333333333333"
      ]
     },
     "execution_count": 19,
     "metadata": {},
     "output_type": "execute_result"
    }
   ],
   "source": [
    "# Return the mean accuracy on the given test data and labels.\n",
    "# Preferrably as close to 1 as possible. Can be improved by tweaking\n",
    "# n_estimators above\n",
    "model.score(X_test,y_test)"
   ]
  },
  {
   "cell_type": "markdown",
   "id": "cultural-summit",
   "metadata": {},
   "source": [
    "## Confusion matrix\n",
    "#### Some explanations\n",
    "##### predict(X_test)\n",
    "Predict class for X.<br>\n",
    "The predicted class of an input sample is a vote by the trees in the forest, weighted by their probability estimates. That is, the predicted class is the one with highest mean probability estimate across the trees.\n",
    "##### Percentage or absolute numbers in the matrix\n",
    "Percentage is ok if the distribution is uniform, otherwise not (better [source](https://stats.stackexchange.com/questions/55476/confusion-matrices-with-percentages-rather-than-number-of-instances) for this is needed)."
   ]
  },
  {
   "cell_type": "code",
   "execution_count": 20,
   "id": "promotional-andrews",
   "metadata": {},
   "outputs": [
    {
     "data": {
      "text/plain": [
       "Text(33.0, 0.5, 'Truth')"
      ]
     },
     "execution_count": 20,
     "metadata": {},
     "output_type": "execute_result"
    },
    {
     "data": {
      "image/png": "[encoded data removed]",
      "text/plain": [
       "<Figure size 432x288 with 2 Axes>"
      ]
     },
     "metadata": {
      "needs_background": "light"
     },
     "output_type": "display_data"
    }
   ],
   "source": [
    "# Predict class for X.\n",
    "y_predicted = model.predict(X_test)\n",
    "# Confusion matrix\n",
    "cm = confusion_matrix(y_test, y_predicted, normalize='all') # Remove 'normalize=\"all\"' to get absolute numbers\n",
    "plt.figure()\n",
    "sn.heatmap(cm, annot=True, cmap='RdPu')\n",
    "plt.title('Confusion matrix for prediction of '+y_name.lower())\n",
    "plt.xlabel('Predicted')\n",
    "plt.ylabel('Truth')"
   ]
  },
  {
   "cell_type": "code",
   "execution_count": null,
   "id": "clinical-entry",
   "metadata": {},
   "outputs": [],
   "source": []
  }
 ],
 "metadata": {
  "kernelspec": {
   "display_name": "Python 3",
   "language": "python",
   "name": "python3"
  },
  "language_info": {
   "codemirror_mode": {
    "name": "ipython",
    "version": 3
   },
   "file_extension": ".py",
   "mimetype": "text/x-python",
   "name": "python",
   "nbconvert_exporter": "python",
   "pygments_lexer": "ipython3",
   "version": "3.8.5"
  }
 },
 "nbformat": 4,
 "nbformat_minor": 5
}
