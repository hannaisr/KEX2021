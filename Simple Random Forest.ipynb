{
 "cells": [
  {
   "cell_type": "markdown",
   "id": "complete-ordinance",
   "metadata": {},
   "source": [
    "### Good web pages to use\n",
    "<ul>\n",
    "    <li><b>train_test_split:</b> https://scikit-learn.org/stable/modules/generated/sklearn.model_selection.train_test_split.html </li>\n",
    "    <li><b>RandomForestClassifier:</b> https://scikit-learn.org/stable/modules/generated/sklearn.ensemble.RandomForestClassifier.html </li>\n",
    "    <li><b>Confusion matrix:</b> https://scikit-learn.org/stable/modules/generated/sklearn.metrics.confusion_matrix.html</li>\n",
    "    <li><b>Use only subset of data:</b> https://pandas.pydata.org/docs/getting_started/intro_tutorials/03_subset_data.html</li>\n",
    "    <li><b>Optimize hyperparameters:</b> https://towardsdatascience.com/optimizing-hyperparameters-in-random-forest-classification-ec7741f9d3f6 </li>\n",
    "</ul>"
   ]
  },
  {
   "cell_type": "code",
   "id": "based-bacon",
   "metadata": {},
   "outputs": [],
   "source": [
    "import numpy as np\n",
    "import pandas as pd\n",
    "import matplotlib.pyplot as plt\n",
    "import seaborn as sn\n",
    "from sklearn.model_selection import train_test_split\n",
    "from sklearn.ensemble import RandomForestClassifier\n",
    "from sklearn.metrics import confusion_matrix\n",
    "from sklearn.model_selection import cross_val_score\n",
    "from sklearn.model_selection import validation_curve\n",
    "from sklearn.model_selection import learning_curve"
   ]
  },
  {
   "cell_type": "code",
   "id": "synthetic-arctic",
   "metadata": {},
   "outputs": [],
   "source": [
    "plt.rcParams[\"font.family\"] = \"serif\"\n",
    "plt.rcParams[\"font.size\"] = 11"
   ]
  },
  {
   "cell_type": "markdown",
   "id": "timely-retailer",
   "metadata": {},
   "source": [
    "### Read pickle file"
   ]
  },
  {
   "cell_type": "code",
   "id": "practical-fence",
   "metadata": {
    "scrolled": true
   },
   "outputs": [],
   "source": [
    "# df = pd.read_pickle('100_fngp_100_rots.pkl')\n",
    "# df = pd.read_pickle('10_ppl_expanded_dataset.pkl')\n",
    "# df = pd.read_pickle('10_first_ppl_100_rots.pkl')\n",
    "df = pd.read_pickle('original_images.pkl')"
   ]
  },
  {
   "cell_type": "code",
   "execution_count": 32,
   "id": "unable-ivory",
   "metadata": {},
   "outputs": [],
   "source": [
    "# Use only a subset of the images\n",
    "# df = df[df[\"Identity\"]<100] # The xx first identities"
   ]
  },
  {
   "cell_type": "code",
   "execution_count": 40,
   "id": "corporate-bookmark",
   "metadata": {},
   "outputs": [],
   "source": [
    "# Choose which columns to be data (X) and target (y)\n",
    "X_name = \"Image\" # The data to be categorized, should be \"Image\"\n",
    "y_name = \"Finger\" # The target label. In the end, Identity\n",
    "X = list(df[X_name])\n",
    "y = df[y_name]"
   ]
  },
  {
   "cell_type": "markdown",
   "id": "increasing-discharge",
   "metadata": {},
   "source": [
    "## Data fitting"
   ]
  },
  {
   "cell_type": "code",
   "execution_count": 41,
   "id": "technological-navigation",
   "metadata": {},
   "outputs": [],
   "source": [
    "# Divide into training and test sets\n",
    "X_train, X_test, y_train, y_test = train_test_split(X,y,test_size=0.2)"
   ]
  },
  {
   "cell_type": "code",
   "execution_count": 42,
   "id": "exempt-india",
   "metadata": {},
   "outputs": [],
   "source": [
    "# Create the model. See link above for default values of parameters\n",
    "model = RandomForestClassifier(n_estimators=100) # Larger n_estimators takes longer to calculate"
   ]
  },
  {
   "cell_type": "code",
   "execution_count": 43,
   "id": "revolutionary-stockholm",
   "metadata": {},
   "outputs": [
    {
     "data": {
      "text/plain": [
       "RandomForestClassifier()"
      ]
     },
     "execution_count": 43,
     "metadata": {},
     "output_type": "execute_result"
    }
   ],
   "source": [
    "# Build a forest of trees from the training set (X_train, y_train).\n",
    "model.fit(X_train,y_train) # Sample weight can be added, but shouldn't be necessary in our case"
   ]
  },
  {
   "cell_type": "code",
   "execution_count": 9,
   "id": "planned-music",
   "metadata": {},
   "outputs": [
    {
     "data": {
      "text/plain": [
       "0.347"
      ]
     },
     "execution_count": 9,
     "metadata": {},
     "output_type": "execute_result"
    }
   ],
   "source": [
    "# Return the mean accuracy on the given test data and labels.\n",
    "# Preferrably as close to 1 as possible. Can be improved by tweaking\n",
    "# n_estimators above\n",
    "model.score(X_test,y_test)"
   ]
  },
  {
   "cell_type": "markdown",
   "id": "funny-sugar",
   "metadata": {},
   "source": [
    "### Cross-validation"
   ]
  },
  {
   "cell_type": "code",
   "execution_count": 44,
   "id": "pharmaceutical-pledge",
   "metadata": {},
   "outputs": [
    {
     "name": "stdout",
     "output_type": "stream",
     "text": [
      "0.49 accuracy with a standard deviation of 0.01\n"
     ]
    }
   ],
   "source": [
    "scores = cross_val_score(model,X,y, cv=5) # Default 5-fold cross validation\n",
    "print(\"%0.2f accuracy with a standard deviation of %0.2f\" % (scores.mean(), scores.std()))"
   ]
  },
  {
   "cell_type": "markdown",
   "id": "rubber-weapon",
   "metadata": {},
   "source": [
    "#### 100_rht_100_rot:\n",
    "0.07 accuracy with std of 0.00\n",
    "#### 100_first_ppl_100_rots:\n",
    "0.27 accuracy with a standard deviation of 0.03"
   ]
  },
  {
   "cell_type": "markdown",
   "id": "bizarre-stone",
   "metadata": {},
   "source": [
    "### Find good enough number of rotations of images\n"
   ]
  },
  {
   "cell_type": "code",
   "execution_count": 31,
   "id": "textile-north",
   "metadata": {},
   "outputs": [],
   "source": [
    "gdf = df.groupby([\"Identity\",\"Finger\",\"Hand\"])#.head(5)\n",
    "model = RandomForestClassifier(n_estimators=100)"
   ]
  },
  {
   "cell_type": "code",
   "execution_count": 40,
   "id": "postal-ideal",
   "metadata": {},
   "outputs": [
    {
     "name": "stdout",
     "output_type": "stream",
     "text": [
      "                                                  Image  Identity  Gender  \\\n",
      "0     [255, 255, 255, 255, 255, 255, 255, 255, 255, ...       508       1   \n",
      "1     [255, 255, 255, 255, 255, 255, 255, 255, 255, ...       508       1   \n",
      "2     [255, 255, 255, 255, 255, 255, 255, 255, 255, ...       508       1   \n",
      "3     [255, 255, 255, 255, 255, 255, 255, 255, 255, ...       508       1   \n",
      "4     [255, 255, 255, 255, 255, 255, 255, 255, 255, ...       508       1   \n",
      "...                                                 ...       ...     ...   \n",
      "9595  [255, 255, 255, 255, 255, 255, 255, 255, 255, ...       401       0   \n",
      "9596  [255, 255, 255, 255, 255, 255, 255, 255, 255, ...       401       0   \n",
      "9597  [255, 255, 255, 255, 255, 255, 255, 255, 255, ...       401       0   \n",
      "9598  [255, 255, 255, 255, 255, 255, 255, 255, 255, ...       401       0   \n",
      "9599  [255, 255, 255, 255, 255, 255, 255, 255, 255, ...       401       0   \n",
      "\n",
      "      Hand  Finger  \n",
      "0        1       0  \n",
      "1        1       0  \n",
      "2        1       0  \n",
      "3        1       0  \n",
      "4        1       0  \n",
      "...    ...     ...  \n",
      "9595     1       0  \n",
      "9596     1       0  \n",
      "9597     1       0  \n",
      "9598     1       0  \n",
      "9599     1       0  \n",
      "\n",
      "[6000 rows x 5 columns]\n",
      "                                                  Image  Identity  Gender  \\\n",
      "0     [255, 255, 255, 255, 255, 255, 255, 255, 255, ...       508       1   \n",
      "1     [255, 255, 255, 255, 255, 255, 255, 255, 255, ...       508       1   \n",
      "2     [255, 255, 255, 255, 255, 255, 255, 255, 255, ...       508       1   \n",
      "3     [255, 255, 255, 255, 255, 255, 255, 255, 255, ...       508       1   \n",
      "4     [255, 255, 255, 255, 255, 255, 255, 255, 255, ...       508       1   \n",
      "...                                                 ...       ...     ...   \n",
      "9695  [255, 255, 255, 255, 255, 255, 255, 255, 255, ...       401       0   \n",
      "9696  [255, 255, 255, 255, 255, 255, 255, 255, 255, ...       401       0   \n",
      "9697  [255, 255, 255, 255, 255, 255, 255, 255, 255, ...       401       0   \n",
      "9698  [255, 255, 255, 255, 255, 255, 255, 255, 255, ...       401       0   \n",
      "9699  [255, 255, 255, 255, 255, 255, 255, 255, 255, ...       401       0   \n",
      "\n",
      "      Hand  Finger  \n",
      "0        1       0  \n",
      "1        1       0  \n",
      "2        1       0  \n",
      "3        1       0  \n",
      "4        1       0  \n",
      "...    ...     ...  \n",
      "9695     1       0  \n",
      "9696     1       0  \n",
      "9697     1       0  \n",
      "9698     1       0  \n",
      "9699     1       0  \n",
      "\n",
      "[7000 rows x 5 columns]\n",
      "                                                  Image  Identity  Gender  \\\n",
      "0     [255, 255, 255, 255, 255, 255, 255, 255, 255, ...       508       1   \n",
      "1     [255, 255, 255, 255, 255, 255, 255, 255, 255, ...       508       1   \n",
      "2     [255, 255, 255, 255, 255, 255, 255, 255, 255, ...       508       1   \n",
      "3     [255, 255, 255, 255, 255, 255, 255, 255, 255, ...       508       1   \n",
      "4     [255, 255, 255, 255, 255, 255, 255, 255, 255, ...       508       1   \n",
      "...                                                 ...       ...     ...   \n",
      "9795  [255, 255, 255, 255, 255, 255, 255, 255, 255, ...       401       0   \n",
      "9796  [255, 255, 255, 255, 255, 255, 255, 255, 255, ...       401       0   \n",
      "9797  [255, 255, 255, 255, 255, 255, 255, 255, 255, ...       401       0   \n",
      "9798  [255, 255, 255, 255, 255, 255, 255, 255, 255, ...       401       0   \n",
      "9799  [255, 255, 255, 255, 255, 255, 255, 255, 255, ...       401       0   \n",
      "\n",
      "      Hand  Finger  \n",
      "0        1       0  \n",
      "1        1       0  \n",
      "2        1       0  \n",
      "3        1       0  \n",
      "4        1       0  \n",
      "...    ...     ...  \n",
      "9795     1       0  \n",
      "9796     1       0  \n",
      "9797     1       0  \n",
      "9798     1       0  \n",
      "9799     1       0  \n",
      "\n",
      "[8000 rows x 5 columns]\n",
      "                                                  Image  Identity  Gender  \\\n",
      "0     [255, 255, 255, 255, 255, 255, 255, 255, 255, ...       508       1   \n",
      "1     [255, 255, 255, 255, 255, 255, 255, 255, 255, ...       508       1   \n",
      "2     [255, 255, 255, 255, 255, 255, 255, 255, 255, ...       508       1   \n",
      "3     [255, 255, 255, 255, 255, 255, 255, 255, 255, ...       508       1   \n",
      "4     [255, 255, 255, 255, 255, 255, 255, 255, 255, ...       508       1   \n",
      "...                                                 ...       ...     ...   \n",
      "9895  [255, 255, 255, 255, 255, 255, 255, 255, 255, ...       401       0   \n",
      "9896  [255, 255, 255, 255, 255, 255, 255, 255, 255, ...       401       0   \n",
      "9897  [255, 255, 255, 255, 255, 255, 255, 255, 255, ...       401       0   \n",
      "9898  [255, 255, 255, 255, 255, 255, 255, 255, 255, ...       401       0   \n",
      "9899  [255, 255, 255, 255, 255, 255, 255, 255, 255, ...       401       0   \n",
      "\n",
      "      Hand  Finger  \n",
      "0        1       0  \n",
      "1        1       0  \n",
      "2        1       0  \n",
      "3        1       0  \n",
      "4        1       0  \n",
      "...    ...     ...  \n",
      "9895     1       0  \n",
      "9896     1       0  \n",
      "9897     1       0  \n",
      "9898     1       0  \n",
      "9899     1       0  \n",
      "\n",
      "[9000 rows x 5 columns]\n",
      "                                                  Image  Identity  Gender  \\\n",
      "0     [255, 255, 255, 255, 255, 255, 255, 255, 255, ...       508       1   \n",
      "1     [255, 255, 255, 255, 255, 255, 255, 255, 255, ...       508       1   \n",
      "2     [255, 255, 255, 255, 255, 255, 255, 255, 255, ...       508       1   \n",
      "3     [255, 255, 255, 255, 255, 255, 255, 255, 255, ...       508       1   \n",
      "4     [255, 255, 255, 255, 255, 255, 255, 255, 255, ...       508       1   \n",
      "...                                                 ...       ...     ...   \n",
      "9995  [255, 255, 255, 255, 255, 255, 255, 255, 255, ...       401       0   \n",
      "9996  [255, 255, 255, 255, 255, 255, 255, 255, 255, ...       401       0   \n",
      "9997  [255, 255, 255, 255, 255, 255, 255, 255, 255, ...       401       0   \n",
      "9998  [255, 255, 255, 255, 255, 255, 255, 255, 255, ...       401       0   \n",
      "9999  [255, 255, 255, 255, 255, 255, 255, 255, 255, ...       401       0   \n",
      "\n",
      "      Hand  Finger  \n",
      "0        1       0  \n",
      "1        1       0  \n",
      "2        1       0  \n",
      "3        1       0  \n",
      "4        1       0  \n",
      "...    ...     ...  \n",
      "9995     1       0  \n",
      "9996     1       0  \n",
      "9997     1       0  \n",
      "9998     1       0  \n",
      "9999     1       0  \n",
      "\n",
      "[10000 rows x 5 columns]\n"
     ]
    }
   ],
   "source": [
    "# nrots = list(range(10,101,10))\n",
    "# nrots = list(range(100,501,100))\n",
    "nrots = list(range(600,1001,100))\n",
    "mean_cv_score = []\n",
    "\n",
    "# Choose which columns to be data (X) and target (y)\n",
    "X_name = \"Image\" # The data to be categorized, should be \"Image\"\n",
    "y_name = \"Identity\" # The target label. In the end, Identity\n",
    "\n",
    "for n in nrots:\n",
    "    new_df = gdf.head(n)\n",
    "    X = list(new_df[X_name])\n",
    "    y = new_df[y_name]\n",
    "    scores = cross_val_score(model,X,y, cv=5)\n",
    "    mean_cv_score.append(scores.mean())"
   ]
  },
  {
   "cell_type": "code",
   "execution_count": 41,
   "id": "informed-charter",
   "metadata": {},
   "outputs": [
    {
     "data": {
      "image/png": "[encoded data removed]",
      "text/plain": [
       "<Figure size 432x288 with 1 Axes>"
      ]
     },
     "metadata": {
      "needs_background": "light"
     },
     "output_type": "display_data"
    }
   ],
   "source": [
    "plt.figure()\n",
    "plt.plot(nrots, mean_cv_score)\n",
    "plt.title(\"mean cval score vs number of rots\\n 10 ppl, right thumb\\n 5-fold, 100 estimators\")\n",
    "plt.xlabel(\"nrots\")\n",
    "plt.ylabel(\"mean cv score\")\n",
    "plt.show()"
   ]
  },
  {
   "cell_type": "code",
   "execution_count": 42,
   "id": "cardiac-savannah",
   "metadata": {
    "scrolled": true
   },
   "outputs": [
    {
     "name": "stdout",
     "output_type": "stream",
     "text": [
      "[600, 700, 800, 900, 1000]\n",
      "[0.8125, 0.8218571428571428, 0.827125, 0.8383333333333333, 0.8343999999999999]\n"
     ]
    }
   ],
   "source": [
    "print(nrots)\n",
    "print(mean_cv_score)"
   ]
  },
  {
   "cell_type": "markdown",
   "id": "obvious-grave",
   "metadata": {},
   "source": [
    "### Results:\n",
    "nrots: [10, 20, 30, 40, 50, 60, 70, 80, 90, 100]\n",
    "\n",
    "mean_cv_score: [0.17099999999999999, 0.209, 0.255, 0.2545, 0.2814, 0.30883333333333335, 0.31485714285714284, 0.325125, 0.3337777777777778, 0.3412]\n",
    "\n",
    "#### 100_fngp_100_rots.pkl:\n",
    "[10, 20, 30, 40, 50, 60, 70, 80, 90, 100]\n",
    "\n",
    "[0.21600000000000003, 0.261, 0.296, 0.32075, 0.35140000000000005, 0.35533333333333333, 0.3678571428571429, 0.386125, 0.3864444444444445, 0.40099999999999997]\n",
    "\n",
    "#### 10_ppl_1000_rot.pkl:\n",
    "[10, 20, 30, 40, 50, 60, 70, 80, 90, 100, 200, 300, 400, 500, 600, 700, 800, 900, 1000]\n",
    "\n",
    "[0.54, 0.625, 0.6766666666666666, 0.7025, 0.6839999999999999, 0.6849999999999999, 0.7271428571428571, 0.7550000000000001, 0.7233333333333334, 0.735, 0.7649999999999999, 0.789, 0.7987500000000001, 0.8133999999999999, 0.8125, 0.8218571428571428, 0.827125, 0.8383333333333333, 0.8343999999999999]\n"
   ]
  },
  {
   "cell_type": "markdown",
   "id": "fewer-medication",
   "metadata": {},
   "source": [
    "## Confusion matrix\n",
    "#### Some explanations\n",
    "##### predict(X_test)\n",
    "Predict class for X.<br>\n",
    "The predicted class of an input sample is a vote by the trees in the forest, weighted by their probability estimates. That is, the predicted class is the one with highest mean probability estimate across the trees.\n",
    "##### Percentage or absolute numbers in the matrix\n",
    "Percentage is ok if the distribution is uniform, otherwise not (better [reference](https://stats.stackexchange.com/questions/55476/confusion-matrices-with-percentages-rather-than-number-of-instances) for this is needed)."
   ]
  },
  {
   "cell_type": "code",
   "execution_count": 45,
   "id": "promotional-andrews",
   "metadata": {},
   "outputs": [
    {
     "data": {
      "text/plain": [
       "Text(33.0, 0.5, 'Truth')"
      ]
     },
     "execution_count": 45,
     "metadata": {},
     "output_type": "execute_result"
    },
    {
     "data": {
      "image/png": "[encoded data removed]",
      "text/plain": [
       "<Figure size 432x288 with 2 Axes>"
      ]
     },
     "metadata": {
      "needs_background": "light"
     },
     "output_type": "display_data"
    }
   ],
   "source": [
    "# Predict class for X.\n",
    "y_predicted = model.predict(X_test)\n",
    "# Confusion matrix\n",
    "cm = confusion_matrix(y_test, y_predicted, normalize='all') # Remove 'normalize=\"all\"' to get absolute numbers\n",
    "plt.figure()\n",
    "sn.heatmap(cm, annot=True, cmap='RdPu')\n",
    "# plt.title('Confusion matrix for prediction of '+y_name.lower())\n",
    "plt.xlabel('Predicted')\n",
    "plt.ylabel('Truth')"
   ]
  },
  {
   "cell_type": "code",
   "execution_count": null,
   "id": "clinical-entry",
   "metadata": {},
   "outputs": [],
   "source": []
  }
 ],
 "metadata": {
  "kernelspec": {
   "display_name": "Python 3",
   "language": "python",
   "name": "python3"
  },
  "language_info": {
   "codemirror_mode": {
    "name": "ipython",
    "version": 3
   },
   "file_extension": ".py",
   "mimetype": "text/x-python",
   "name": "python",
   "nbconvert_exporter": "python",
   "pygments_lexer": "ipython3",
   "version": "3.8.5"
  }
 },
 "nbformat": 4,
 "nbformat_minor": 5
}
