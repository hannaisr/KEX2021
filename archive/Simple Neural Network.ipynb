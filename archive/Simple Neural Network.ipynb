{
 "cells": [
  {
   "cell_type": "markdown",
   "id": "moderate-variable",
   "metadata": {},
   "source": [
    "Links to\n",
    "\n",
    "[scikit NN](https://scikit-learn.org/stable/modules/neural_networks_supervised.html#neural-networks-supervised)\n",
    "\n",
    "[MLPClassifier](https://scikit-learn.org/stable/modules/generated/sklearn.neural_network.MLPClassifier.html#sklearn.neural_network.MLPClassifier)"
   ]
  },
  {
   "cell_type": "code",
   "execution_count": 40,
   "id": "suffering-exploration",
   "metadata": {},
   "outputs": [],
   "source": [
    "import pandas as pd\n",
    "import numpy as np\n",
    "from sklearn.neural_network import MLPClassifier\n",
    "import matplotlib.pyplot as plt\n",
    "import seaborn as sn\n",
    "from sklearn.model_selection import train_test_split\n",
    "from sklearn.metrics import confusion_matrix"
   ]
  },
  {
   "cell_type": "code",
   "execution_count": 34,
   "id": "lesbian-swimming",
   "metadata": {},
   "outputs": [],
   "source": [
    "# Get data\n",
    "df = pd.read_pickle('original_images.pkl')"
   ]
  },
  {
   "cell_type": "code",
   "execution_count": 3,
   "id": "earlier-perfume",
   "metadata": {},
   "outputs": [],
   "source": [
    "# Use only a subset of the images\n",
    "df = df[df[\"Identity\"]<10] # The 100 first identities"
   ]
  },
  {
   "cell_type": "code",
   "execution_count": 35,
   "id": "advance-latter",
   "metadata": {},
   "outputs": [],
   "source": [
    "# Choose which columns to be data, X, and target, y.\n",
    "X_name = \"Image\" # The data to be categorized, should be \"Image\"\n",
    "y_name = \"Finger\" # The target label. In the end, Identity\n",
    "X = list(df[\"Image\"])\n",
    "y = df[y_name]"
   ]
  },
  {
   "cell_type": "code",
   "execution_count": 25,
   "id": "needed-edwards",
   "metadata": {},
   "outputs": [],
   "source": [
    "X = [x/255 for x in X] # Scale the data to be in range [0,1]"
   ]
  },
  {
   "cell_type": "code",
   "execution_count": 36,
   "id": "genuine-slovak",
   "metadata": {},
   "outputs": [],
   "source": [
    "# Divide into training and test sets\n",
    "X_train, X_test, y_train, y_test = train_test_split(X,y,test_size=0.2)"
   ]
  },
  {
   "cell_type": "code",
   "execution_count": 37,
   "id": "dependent-government",
   "metadata": {},
   "outputs": [
    {
     "data": {
      "text/plain": [
       "MLPClassifier()"
      ]
     },
     "execution_count": 37,
     "metadata": {},
     "output_type": "execute_result"
    }
   ],
   "source": [
    "model = MLPClassifier()\n",
    "model.fit(X_train, y_train)"
   ]
  },
  {
   "cell_type": "code",
   "execution_count": 38,
   "id": "assured-canvas",
   "metadata": {},
   "outputs": [
    {
     "data": {
      "text/plain": [
       "0.19833333333333333"
      ]
     },
     "execution_count": 38,
     "metadata": {},
     "output_type": "execute_result"
    }
   ],
   "source": [
    "model.score(X_test,y_test)"
   ]
  },
  {
   "cell_type": "code",
   "execution_count": 41,
   "id": "rubber-blocking",
   "metadata": {},
   "outputs": [
    {
     "data": {
      "text/plain": [
       "Text(33.0, 0.5, 'Truth')"
      ]
     },
     "execution_count": 41,
     "metadata": {},
     "output_type": "execute_result"
    },
    {
     "data": {
      "image/png": "[encoded data removed]",
      "text/plain": [
       "<Figure size 432x288 with 2 Axes>"
      ]
     },
     "metadata": {
      "needs_background": "light"
     },
     "output_type": "display_data"
    }
   ],
   "source": [
    "# Predict class for X.\n",
    "y_predicted = model.predict(X_test)\n",
    "# Confusion matrix\n",
    "cm = confusion_matrix(y_test, y_predicted, normalize='all') # Remove 'normalize=\"all\"' to get absolute numbers\n",
    "plt.figure()\n",
    "sn.heatmap(cm, annot=True, cmap='RdPu')\n",
    "plt.title('Confusion matrix for prediction of '+y_name.lower())\n",
    "plt.xlabel('Predicted')\n",
    "plt.ylabel('Truth')"
   ]
  },
  {
   "cell_type": "code",
   "execution_count": null,
   "id": "optical-andrews",
   "metadata": {},
   "outputs": [],
   "source": []
  }
 ],
 "metadata": {
  "kernelspec": {
   "display_name": "Python 3",
   "language": "python",
   "name": "python3"
  },
  "language_info": {
   "codemirror_mode": {
    "name": "ipython",
    "version": 3
   },
   "file_extension": ".py",
   "mimetype": "text/x-python",
   "name": "python",
   "nbconvert_exporter": "python",
   "pygments_lexer": "ipython3",
   "version": "3.8.5"
  }
 },
 "nbformat": 4,
 "nbformat_minor": 5
}
