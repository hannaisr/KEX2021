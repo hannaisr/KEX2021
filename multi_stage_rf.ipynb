{
 "cells": [
  {
   "cell_type": "code",
   "execution_count": 1,
   "id": "intensive-treasurer",
   "metadata": {},
   "outputs": [],
   "source": [
    "import numpy as np\n",
    "import pandas as pd\n",
    "import matplotlib.pyplot as plt\n",
    "import seaborn as sn\n",
    "from sklearn.model_selection import train_test_split\n",
    "from sklearn.ensemble import RandomForestClassifier\n",
    "from sklearn.metrics import confusion_matrix\n",
    "from sklearn.model_selection import cross_val_score"
   ]
  },
  {
   "cell_type": "code",
   "execution_count": 2,
   "id": "bound-lover",
   "metadata": {},
   "outputs": [],
   "source": [
    "# Read the data file\n",
    "df = pd.read_pickle('100_fingerprints_expanded_dataset.pkl')"
   ]
  },
  {
   "cell_type": "code",
   "execution_count": 3,
   "id": "controversial-bride",
   "metadata": {},
   "outputs": [
    {
     "data": {
      "text/plain": [
       "RandomForestClassifier()"
      ]
     },
     "execution_count": 3,
     "metadata": {},
     "output_type": "execute_result"
    }
   ],
   "source": [
    "# -------------------------------------\n",
    "# FIRST STAGE MODEL TRAINING\n",
    "# -------------------------------------\n",
    "X = list(df[\"Image\"])\n",
    "y = df[\"Hand\"]\n",
    "X_train, X_test, y_train, y_test = train_test_split(X,y,test_size=0.2)\n",
    "model_hand = RandomForestClassifier()\n",
    "model_hand.fit(X_train,y_train) # Fit the model fo training data\n",
    "# -------------------------------------\n",
    "# END OF FIRST STAGE MODEL TRAINING\n",
    "# -------------------------------------"
   ]
  },
  {
   "cell_type": "code",
   "execution_count": 5,
   "id": "federal-elements",
   "metadata": {},
   "outputs": [
    {
     "data": {
      "text/plain": [
       "RandomForestClassifier()"
      ]
     },
     "execution_count": 5,
     "metadata": {},
     "output_type": "execute_result"
    }
   ],
   "source": [
    "# --------------------------------------\n",
    "# SECOND STAGE MODEL TRAINING\n",
    "# --------------------------------------\n",
    "# Split data into separate sets for right and left hand\n",
    "dflh = df[df.Hand==0]\n",
    "dfrh = df[df.Hand==1]\n",
    "\n",
    "# Left hand training\n",
    "Xlh = list(dflh[\"Image\"])\n",
    "ylh = dflh[\"Identity\"]\n",
    "X_trainlh, X_testlh, y_trainlh, y_testlh = train_test_split(Xlh,ylh,test_size=0.2)\n",
    "model_lid = RandomForestClassifier() # \"lid\" short for \"left hand, identity\"\n",
    "model_lid.fit(X_trainlh,y_trainlh)\n",
    "\n",
    "# Right hand training\n",
    "Xrh = list(dfrh[\"Image\"])\n",
    "yrh = dfrh[\"Identity\"]\n",
    "X_trainrh, X_testrh, y_trainrh, y_testrh = train_test_split(Xrh,yrh,test_size=0.2)\n",
    "model_rid = RandomForestClassifier() # \"rid\" short for \"right hand, identity\"\n",
    "model_rid.fit(X_trainrh,y_trainrh)\n",
    "# --------------------------------------\n",
    "# END OF SECOND STAGE MODEL TRAINING\n",
    "# --------------------------------------"
   ]
  },
  {
   "cell_type": "code",
   "execution_count": 19,
   "id": "better-purple",
   "metadata": {},
   "outputs": [
    {
     "name": "stdout",
     "output_type": "stream",
     "text": [
      "[0 1 0 ... 0 0 0]\n",
      "[0 0 0 ... 0 0 1]\n"
     ]
    }
   ],
   "source": [
    "# print(pred_hand)\n",
    "# print(np.array(y_test))"
   ]
  },
  {
   "cell_type": "code",
   "execution_count": 31,
   "id": "adopted-angle",
   "metadata": {},
   "outputs": [],
   "source": [
    "# --------------------------------------\n",
    "# MODEL IMPLEMENTATION\n",
    "# --------------------------------------\n",
    "pred_hand = model_hand.predict(X_test)\n",
    "\n",
    "X_lh = []\n",
    "y_lh = []\n",
    "X_rh = []\n",
    "y_rh = []\n",
    "\n",
    "for i in range(len(pred_hand)):\n",
    "    if pred[i]==0:\n",
    "        X_lh.append(X_test[i])\n",
    "        j = y_test.index[i]\n",
    "        y_lh.append(df[\"Identity\"][j])\n",
    "    else:\n",
    "        X_rh.append(X_test[i])\n",
    "        j = y_test.index[i]\n",
    "        y_rh.append(df[\"Identity\"][j])\n",
    "        \n",
    "pred_lid = lh_model.predict(X_lh)\n",
    "pred_rid = rh_model.predict(X_rh)\n",
    "# --------------------------------------\n",
    "# END OF MODEL IMPLEMENTATION\n",
    "# --------------------------------------"
   ]
  },
  {
   "cell_type": "code",
   "execution_count": 36,
   "id": "endless-tanzania",
   "metadata": {},
   "outputs": [],
   "source": [
    "# --------------------------------------\n",
    "# EVALUATION OF RESULTS\n",
    "# --------------------------------------\n",
    "# Calculate accuracy\n",
    "len_lh = len(pred_lh)\n",
    "len_rh = len(pred_rh)\n",
    "score_lh = 0\n",
    "score_rh = 0\n",
    "for i in range(len_lh):\n",
    "    if pred_lh[i] == y_lh[i]:\n",
    "        score_lh += 1/len_lh\n",
    "for i in range(len_rh):\n",
    "    if pred_rh[i] == y_rh[i]:\n",
    "        score_rh += 1/len_rh\n",
    "        \n",
    "# Print the result\n",
    "print(score_lh)\n",
    "print(score_rh)\n",
    "# --------------------------------------\n",
    "# END OF EVALUATION OF RESULTS\n",
    "# --------------------------------------"
   ]
  },
  {
   "cell_type": "code",
   "execution_count": 37,
   "id": "banner-immune",
   "metadata": {},
   "outputs": [
    {
     "name": "stdout",
     "output_type": "stream",
     "text": [
      "0.6455566905005107\n",
      "0.6238981390793391\n"
     ]
    }
   ],
   "source": []
  },
  {
   "cell_type": "code",
   "execution_count": null,
   "id": "three-preparation",
   "metadata": {},
   "outputs": [],
   "source": []
  }
 ],
 "metadata": {
  "kernelspec": {
   "display_name": "Python 3",
   "language": "python",
   "name": "python3"
  },
  "language_info": {
   "codemirror_mode": {
    "name": "ipython",
    "version": 3
   },
   "file_extension": ".py",
   "mimetype": "text/x-python",
   "name": "python",
   "nbconvert_exporter": "python",
   "pygments_lexer": "ipython3",
   "version": "3.8.5"
  }
 },
 "nbformat": 4,
 "nbformat_minor": 5
}
