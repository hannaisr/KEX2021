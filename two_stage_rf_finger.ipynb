{
 "cells": [
  {
   "cell_type": "code",
   "execution_count": 2,
   "id": "junior-prevention",
   "metadata": {},
   "outputs": [],
   "source": [
    "import numpy as np\n",
    "import pandas as pd\n",
    "from sklearn.model_selection import train_test_split\n",
    "from sklearn.ensemble import RandomForestClassifier\n",
    "# import matplotlib.pyplot as plt\n",
    "# import seaborn as sn\n",
    "# from sklearn.metrics import confusion_matrix\n",
    "# from sklearn.model_selection import cross_val_score"
   ]
  },
  {
   "cell_type": "code",
   "execution_count": 3,
   "id": "impossible-portland",
   "metadata": {},
   "outputs": [],
   "source": [
    "# Read the data file\n",
    "df = pd.read_pickle('100_fingerprints_expanded_dataset.pkl')"
   ]
  },
  {
   "cell_type": "code",
   "execution_count": 5,
   "id": "identified-strengthening",
   "metadata": {},
   "outputs": [],
   "source": [
    "# --------------------------------------\n",
    "# SECOND STAGE MODEL TRAINING\n",
    "# --------------------------------------\n",
    "\n",
    "model_list_2nd_stage = []\n",
    "X_train_list_2nd_stage = [0]*5\n",
    "X_test_list_2nd_stage = [0]*5\n",
    "y_train_list_2nd_stage = [0]*5\n",
    "y_test_list_2nd_stage = [0]*5\n",
    "\n",
    "for i in range(0,5):\n",
    "    X = list(df[df.Finger==i][\"Image\"])\n",
    "    y = df[df.Finger==i][\"Identity\"]\n",
    "    X_train_list_2nd_stage[i], X_test_list_2nd_stage[i], y_train_list_2nd_stage[i], y_test_list_2nd_stage[i] = train_test_split(X,y,test_size=0.2)\n",
    "    model_list_2nd_stage.append(RandomForestClassifier())\n",
    "    model_list_2nd_stage[i].fit(X_train_list_2nd_stage[i],y_train_list_2nd_stage[i])\n",
    "    \n",
    "# --------------------------------------\n",
    "# END OF SECOND STAGE MODEL TRAINING\n",
    "# --------------------------------------"
   ]
  },
  {
   "cell_type": "code",
   "execution_count": 9,
   "id": "efficient-nicaragua",
   "metadata": {},
   "outputs": [
    {
     "data": {
      "text/plain": [
       "RandomForestClassifier()"
      ]
     },
     "execution_count": 9,
     "metadata": {},
     "output_type": "execute_result"
    }
   ],
   "source": [
    "# -------------------------------------\n",
    "# FIRST STAGE MODEL TRAINING\n",
    "# -------------------------------------\n",
    "X_train = [item for sublist in X_train_list_2nd_stage for item in sublist]\n",
    "X_test = [item for sublist in X_test_list_2nd_stage for item in sublist]\n",
    "ytr = pd.concat(y_train_list_2nd_stage) # Just for accessing the index of the object\n",
    "yte = pd.concat(y_test_list_2nd_stage) # Just for accessing the index of the object\n",
    "y_train = [] # For storing finger\n",
    "y_test = []# For storing finger\n",
    "\n",
    "for i in range(len(ytr)):\n",
    "    j = ytr.index[i]\n",
    "    y_train.append([df[\"Finger\"][j],j])\n",
    "for i in range(len(yte)):\n",
    "    j = yte.index[i]\n",
    "    y_test.append([df[\"Finger\"][j],j])\n",
    "\n",
    "y_train_indexfree = [i[0] for i in y_train]\n",
    "\n",
    "model_finger = RandomForestClassifier()\n",
    "model_finger.fit(X_train,y_train_indexfree) # Fit the model fo training data\n",
    "# -------------------------------------\n",
    "# END OF FIRST STAGE MODEL TRAINING\n",
    "# -------------------------------------"
   ]
  },
  {
   "cell_type": "code",
   "execution_count": 8,
   "id": "pregnant-croatia",
   "metadata": {},
   "outputs": [
    {
     "data": {
      "text/plain": [
       "6843    577\n",
       "1689    589\n",
       "7671    251\n",
       "2198    475\n",
       "5880    221\n",
       "       ... \n",
       "438     330\n",
       "9359     39\n",
       "3797     45\n",
       "5482    156\n",
       "3453    302\n",
       "Name: Identity, Length: 2000, dtype: int64"
      ]
     },
     "execution_count": 8,
     "metadata": {},
     "output_type": "execute_result"
    }
   ],
   "source": [
    "yte"
   ]
  },
  {
   "cell_type": "code",
   "execution_count": 10,
   "id": "hundred-stuff",
   "metadata": {},
   "outputs": [
    {
     "ename": "TypeError",
     "evalue": "'builtin_function_or_method' object is not subscriptable",
     "output_type": "error",
     "traceback": [
      "\u001b[0;31m---------------------------------------------------------------------------\u001b[0m",
      "\u001b[0;31mTypeError\u001b[0m                                 Traceback (most recent call last)",
      "\u001b[0;32m<ipython-input-10-4d4ebf5ad72b>\u001b[0m in \u001b[0;36m<module>\u001b[0;34m\u001b[0m\n\u001b[1;32m      9\u001b[0m \u001b[0;32mfor\u001b[0m \u001b[0mi\u001b[0m \u001b[0;32min\u001b[0m \u001b[0mrange\u001b[0m\u001b[0;34m(\u001b[0m\u001b[0mlen\u001b[0m\u001b[0;34m(\u001b[0m\u001b[0mpred_finger\u001b[0m\u001b[0;34m)\u001b[0m\u001b[0;34m)\u001b[0m\u001b[0;34m:\u001b[0m\u001b[0;34m\u001b[0m\u001b[0;34m\u001b[0m\u001b[0m\n\u001b[1;32m     10\u001b[0m     \u001b[0mj\u001b[0m \u001b[0;34m=\u001b[0m \u001b[0mpred_finger\u001b[0m\u001b[0;34m[\u001b[0m\u001b[0mi\u001b[0m\u001b[0;34m]\u001b[0m\u001b[0;34m\u001b[0m\u001b[0;34m\u001b[0m\u001b[0m\n\u001b[0;32m---> 11\u001b[0;31m     \u001b[0mX_pred_list\u001b[0m\u001b[0;34m[\u001b[0m\u001b[0mj\u001b[0m\u001b[0;34m]\u001b[0m\u001b[0;34m.\u001b[0m\u001b[0mappend\u001b[0m\u001b[0;34m[\u001b[0m\u001b[0mX_test\u001b[0m\u001b[0;34m[\u001b[0m\u001b[0mi\u001b[0m\u001b[0;34m]\u001b[0m\u001b[0;34m]\u001b[0m\u001b[0;34m\u001b[0m\u001b[0;34m\u001b[0m\u001b[0m\n\u001b[0m\u001b[1;32m     12\u001b[0m     \u001b[0mn\u001b[0m \u001b[0;34m=\u001b[0m \u001b[0my_test\u001b[0m\u001b[0;34m[\u001b[0m\u001b[0mi\u001b[0m\u001b[0;34m]\u001b[0m\u001b[0;34m[\u001b[0m\u001b[0;36m1\u001b[0m\u001b[0;34m]\u001b[0m \u001b[0;31m# Index in DataFrame\u001b[0m\u001b[0;34m\u001b[0m\u001b[0;34m\u001b[0m\u001b[0m\n\u001b[1;32m     13\u001b[0m     \u001b[0my_pred_list\u001b[0m\u001b[0;34m[\u001b[0m\u001b[0mi\u001b[0m\u001b[0;34m]\u001b[0m\u001b[0;34m.\u001b[0m\u001b[0mappend\u001b[0m\u001b[0;34m(\u001b[0m\u001b[0mdf\u001b[0m\u001b[0;34m[\u001b[0m\u001b[0;34m\"Identity\"\u001b[0m\u001b[0;34m]\u001b[0m\u001b[0;34m[\u001b[0m\u001b[0mn\u001b[0m\u001b[0;34m]\u001b[0m\u001b[0;34m)\u001b[0m\u001b[0;34m\u001b[0m\u001b[0;34m\u001b[0m\u001b[0m\n",
      "\u001b[0;31mTypeError\u001b[0m: 'builtin_function_or_method' object is not subscriptable"
     ]
    }
   ],
   "source": [
    "# --------------------------------------\n",
    "# MODEL IMPLEMENTATION\n",
    "# --------------------------------------\n",
    "pred_finger = model_finger.predict(X_test)\n",
    "\n",
    "X_pred_list = [[]]*5\n",
    "y_pred_list = [[]]*5\n",
    "\n",
    "for i in range(len(pred_finger)):\n",
    "    j = pred_finger[i]\n",
    "    X_pred_list[j].append[X_test[i]]\n",
    "    n = y_test[i][1] # Index in DataFrame\n",
    "    y_pred_list[i].append(df[\"Identity\"][n])\n",
    "\n",
    "pred_id_list = [[]]*5\n",
    "\n",
    "for i in range(5):\n",
    "    pred_id_list[i] = model_list_2nd_stage.predict[X_pred_list[i]]\n",
    "# --------------------------------------\n",
    "# END OF MODEL IMPLEMENTATION\n",
    "# --------------------------------------"
   ]
  },
  {
   "cell_type": "code",
   "execution_count": null,
   "id": "continental-cedar",
   "metadata": {},
   "outputs": [],
   "source": [
    "# --------------------------------------\n",
    "# EVALUATION OF RESULTS\n",
    "# --------------------------------------\n",
    "# Calculate accuracy\n",
    "len_list = [[]]*5\n",
    "score_list = [0]*5\n",
    "score_tot = 0\n",
    "\n",
    "for i in range(5):\n",
    "    len_list[i] = len(pred_id_list[i])\n",
    "\n",
    "for i in range(5):\n",
    "    siz = len(pred_id_list[i])\n",
    "    for j in range(siz):\n",
    "        if pred_id_list[i][j] == y_test\n",
    "            score_list[i] += 1\n",
    "            score_tot += 1\n",
    "        score_list[i] = score_list[i]/siz\n",
    "    score_tot = score_tot/len(np.array(pred_id_list).flatten())\n",
    "\n",
    "# Print the result\n",
    "print(score_list)\n",
    "print(score_tot)\n",
    "# --------------------------------------\n",
    "# END OF EVALUATION OF RESULTS\n",
    "# --------------------------------------"
   ]
  },
  {
   "cell_type": "code",
   "execution_count": null,
   "id": "invisible-irish",
   "metadata": {},
   "outputs": [],
   "source": []
  }
 ],
 "metadata": {
  "kernelspec": {
   "display_name": "Python 3",
   "language": "python",
   "name": "python3"
  },
  "language_info": {
   "codemirror_mode": {
    "name": "ipython",
    "version": 3
   },
   "file_extension": ".py",
   "mimetype": "text/x-python",
   "name": "python",
   "nbconvert_exporter": "python",
   "pygments_lexer": "ipython3",
   "version": "3.8.5"
  }
 },
 "nbformat": 4,
 "nbformat_minor": 5
}
