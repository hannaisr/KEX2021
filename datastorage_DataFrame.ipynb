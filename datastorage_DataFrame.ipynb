{
 "cells": [
  {
   "cell_type": "markdown",
   "id": "completed-mortality",
   "metadata": {},
   "source": [
    "# Method for storing the dataset\n",
    "Store as pandas DataFrame"
   ]
  },
  {
   "cell_type": "code",
   "execution_count": 1,
   "id": "portuguese-toner",
   "metadata": {},
   "outputs": [],
   "source": [
    "import numpy as np\n",
    "import matplotlib.pyplot as plt\n",
    "import cv2\n",
    "import os\n",
    "import pandas as pd\n",
    "\n",
    "DATADIR = \"/home/hanna/Documents/KEX/SoCoF/archive/SOCOFing/Real\" # directory to collect files from\n",
    "IMG_SIZE = 90"
   ]
  },
  {
   "cell_type": "code",
   "execution_count": 2,
   "id": "healthy-tenant",
   "metadata": {},
   "outputs": [],
   "source": [
    "feat_dict = {\n",
    "    \"M\" : 0,\n",
    "    \"F\" : 1,\n",
    "    \"Left\" : 0,\n",
    "    \"Right\" : 1,\n",
    "    \"thumb\" : 0,\n",
    "    \"index\" : 1,\n",
    "    \"middle\" : 2,\n",
    "    \"ring\" : 3,\n",
    "    \"little\" : 4\n",
    "    }"
   ]
  },
  {
   "cell_type": "code",
   "execution_count": 3,
   "id": "sharp-fishing",
   "metadata": {},
   "outputs": [],
   "source": [
    "def get_attributes(img):\n",
    "    split_img = img.split('_')\n",
    "    idty = int(split_img[0])\n",
    "    gend = feat_dict[split_img[2]]\n",
    "    hand = feat_dict[split_img[3]]\n",
    "    fing = feat_dict[split_img[4]]\n",
    "    return idty,gend,hand,fing"
   ]
  },
  {
   "cell_type": "code",
   "execution_count": 4,
   "id": "combined-belize",
   "metadata": {},
   "outputs": [],
   "source": [
    "def create_training_data():\n",
    "    training_data = []\n",
    "    for img in os.listdir(DATADIR):\n",
    "        img_array = cv2.imread(os.path.join(DATADIR,img), cv2.IMREAD_GRAYSCALE)\n",
    "        new_array = cv2.resize(img_array, (IMG_SIZE, IMG_SIZE))\n",
    "        new_array = new_array.flatten()\n",
    "        idty,gend,hand,fing = get_attributes(img)\n",
    "        training_data.append([new_array,idty,gend,hand,fing])\n",
    "    return(training_data)"
   ]
  },
  {
   "cell_type": "code",
   "execution_count": 5,
   "id": "difficult-theology",
   "metadata": {},
   "outputs": [],
   "source": [
    "training_data = create_training_data()"
   ]
  },
  {
   "cell_type": "code",
   "execution_count": 6,
   "id": "brave-abraham",
   "metadata": {},
   "outputs": [
    {
     "name": "stdout",
     "output_type": "stream",
     "text": [
      "6000\n"
     ]
    }
   ],
   "source": [
    "print(len(training_data))"
   ]
  },
  {
   "cell_type": "code",
   "execution_count": 7,
   "id": "settled-death",
   "metadata": {
    "scrolled": true
   },
   "outputs": [],
   "source": [
    "# Store data in pandas DataFrame\n",
    "df = pd.DataFrame(training_data, columns=[\"Image\",\"Identity\",\"Gender\",\"Hand\",\"Finger\"])"
   ]
  },
  {
   "cell_type": "markdown",
   "id": "racial-uncle",
   "metadata": {},
   "source": [
    "## CSV"
   ]
  },
  {
   "cell_type": "markdown",
   "id": "curious-berlin",
   "metadata": {},
   "source": [
    "$+$ Human readable <br>\n",
    "$+$ Works with other programs/programming languages <br>\n",
    "$-$ <b>Doesn't retain type</b> <br>\n",
    "$-$ Slower <br>\n",
    "$-$ More disk space <br>\n",
    "\n",
    "(https://stackoverflow.com/questions/48770542/what-is-the-difference-between-save-a-pandas-dataframe-to-pickle-and-to-csv)."
   ]
  },
  {
   "cell_type": "code",
   "execution_count": 8,
   "id": "prescribed-great",
   "metadata": {},
   "outputs": [],
   "source": [
    "# Save data to csv file \"images.csv\"\n",
    "df.to_csv('images2.csv',index=False)"
   ]
  },
  {
   "cell_type": "code",
   "execution_count": 9,
   "id": "figured-infrared",
   "metadata": {},
   "outputs": [],
   "source": [
    "# Read file and store the data in DataFrame df\n",
    "uncsvd_df = pd.read_csv('images2.csv')"
   ]
  },
  {
   "cell_type": "code",
   "execution_count": 10,
   "id": "amino-adobe",
   "metadata": {},
   "outputs": [
    {
     "data": {
      "text/plain": [
       "str"
      ]
     },
     "execution_count": 10,
     "metadata": {},
     "output_type": "execute_result"
    }
   ],
   "source": [
    "type(uncsvd_df[\"Image\"][0])"
   ]
  },
  {
   "cell_type": "markdown",
   "id": "vietnamese-sleeve",
   "metadata": {},
   "source": [
    "## Pickle"
   ]
  },
  {
   "cell_type": "markdown",
   "id": "consecutive-melbourne",
   "metadata": {},
   "source": [
    "$+$ <b>Retains types</b> <br>\n",
    "$+$ Less disk space <br>\n",
    "$+$ Faster <br>\n",
    "$-$ Not human readable <br>\n",
    "$-$ Only Python <br>\n",
    "(https://stackoverflow.com/questions/48770542/what-is-the-difference-between-save-a-pandas-dataframe-to-pickle-and-to-csv)"
   ]
  },
  {
   "cell_type": "code",
   "execution_count": 11,
   "id": "hungarian-contents",
   "metadata": {},
   "outputs": [],
   "source": [
    "# Save data as pickle\n",
    "df.to_pickle(\"images.pkl\")"
   ]
  },
  {
   "cell_type": "code",
   "execution_count": 12,
   "id": "powerful-reflection",
   "metadata": {},
   "outputs": [],
   "source": [
    "# Read pickle data\n",
    "unpickled_df = pd.read_pickle(\"images.pkl\")"
   ]
  },
  {
   "cell_type": "code",
   "execution_count": 13,
   "id": "together-headline",
   "metadata": {},
   "outputs": [
    {
     "data": {
      "text/plain": [
       "numpy.ndarray"
      ]
     },
     "execution_count": 13,
     "metadata": {},
     "output_type": "execute_result"
    }
   ],
   "source": [
    "type(unpickled_df[\"Image\"][0])"
   ]
  },
  {
   "cell_type": "code",
   "execution_count": null,
   "id": "portable-prize",
   "metadata": {},
   "outputs": [],
   "source": []
  }
 ],
 "metadata": {
  "kernelspec": {
   "display_name": "Python 3",
   "language": "python",
   "name": "python3"
  },
  "language_info": {
   "codemirror_mode": {
    "name": "ipython",
    "version": 3
   },
   "file_extension": ".py",
   "mimetype": "text/x-python",
   "name": "python",
   "nbconvert_exporter": "python",
   "pygments_lexer": "ipython3",
   "version": "3.8.5"
  }
 },
 "nbformat": 4,
 "nbformat_minor": 5
}
