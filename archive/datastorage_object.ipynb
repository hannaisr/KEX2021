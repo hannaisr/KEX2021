{
 "cells": [
  {
   "cell_type": "markdown",
   "id": "completed-mortality",
   "metadata": {},
   "source": [
    "# Method for storing the dataset as object\n",
    "Using pickle"
   ]
  },
  {
   "cell_type": "code",
   "execution_count": 4,
   "id": "portuguese-toner",
   "metadata": {},
   "outputs": [],
   "source": [
    "import numpy as np\n",
    "import matplotlib.pyplot as plt\n",
    "import cv2\n",
    "import os\n",
    "import pandas as pd\n",
    "import pickle\n",
    "import Fingerprint"
   ]
  },
  {
   "cell_type": "code",
   "execution_count": 4,
   "id": "specialized-twenty",
   "metadata": {},
   "outputs": [],
   "source": [
    "DATADIR = \"/home/hanna/Documents/KEX/SoCoF/archive/SOCOFing/Real\" # directory to collect files from\n",
    "IMG_SIZE = 90\n",
    "feat_dict = {\n",
    "    \"M\" : 0,\n",
    "    \"F\" : 1,\n",
    "    \"Left\" : 0,\n",
    "    \"Right\" : 1,\n",
    "    \"thumb\" : 0,\n",
    "    \"index\" : 1,\n",
    "    \"middle\" : 2,\n",
    "    \"ring\" : 3,\n",
    "    \"little\" : 4\n",
    "    }"
   ]
  },
  {
   "cell_type": "code",
   "execution_count": 13,
   "id": "celtic-insulation",
   "metadata": {},
   "outputs": [],
   "source": [
    "def get_attributes(img):\n",
    "    split_img = img.split('_')\n",
    "    idty = int(split_img[0])\n",
    "    gend = feat_dict[split_img[2]]\n",
    "    hand = feat_dict[split_img[3]]\n",
    "    fing = feat_dict[split_img[4]]\n",
    "    return idty,gend,hand,fing"
   ]
  },
  {
   "cell_type": "code",
   "execution_count": 11,
   "id": "standard-automation",
   "metadata": {},
   "outputs": [],
   "source": [
    "def create_training_data(OBJECT):\n",
    "    training_data = []\n",
    "    for img in os.listdir(DATADIR):\n",
    "        img_array = cv2.imread(os.path.join(DATADIR,img), cv2.IMREAD_GRAYSCALE)\n",
    "        new_array = cv2.resize(img_array, (IMG_SIZE, IMG_SIZE))\n",
    "        new_array = new_array.flatten() # Flatten the array\n",
    "        idty,gend,hand,fing = get_attributes(img)\n",
    "        OBJECT.data.append(new_array)\n",
    "        OBJECT.identity.append(idty)\n",
    "        OBJECT.gender.append(gend)\n",
    "        OBJECT.hand.append(hand)\n",
    "        OBJECT.finger.append(fing)\n"
   ]
  },
  {
   "cell_type": "code",
   "execution_count": 7,
   "id": "scheduled-upset",
   "metadata": {},
   "outputs": [],
   "source": [
    "class Fingerprint():    \n",
    "    def __init__(self):\n",
    "        self.data = []\n",
    "        self.identity = []\n",
    "        self.gender = []\n",
    "        self.hand = []\n",
    "        self.finger = []"
   ]
  },
  {
   "cell_type": "code",
   "execution_count": 14,
   "id": "accredited-corpus",
   "metadata": {},
   "outputs": [],
   "source": [
    "fingerprints = Fingerprint()\n",
    "create_training_data(fingerprints)"
   ]
  },
  {
   "cell_type": "markdown",
   "id": "vietnamese-sleeve",
   "metadata": {},
   "source": [
    "## Pickle"
   ]
  },
  {
   "cell_type": "code",
   "execution_count": 15,
   "id": "hungarian-contents",
   "metadata": {},
   "outputs": [],
   "source": [
    "# Save data as pickle\n",
    "filehandler = open('fingerprints.obj', 'wb')\n",
    "pickle.dump(fingerprints, filehandler)"
   ]
  },
  {
   "cell_type": "code",
   "execution_count": 5,
   "id": "powerful-reflection",
   "metadata": {},
   "outputs": [
    {
     "ename": "UnpicklingError",
     "evalue": "NEWOBJ class argument isn't a type object",
     "output_type": "error",
     "traceback": [
      "\u001b[0;31m---------------------------------------------------------------------------\u001b[0m",
      "\u001b[0;31mUnpicklingError\u001b[0m                           Traceback (most recent call last)",
      "\u001b[0;32m<ipython-input-5-331da902ab3f>\u001b[0m in \u001b[0;36m<module>\u001b[0;34m\u001b[0m\n\u001b[1;32m      1\u001b[0m \u001b[0;31m# Read pickle data\u001b[0m\u001b[0;34m\u001b[0m\u001b[0;34m\u001b[0m\u001b[0;34m\u001b[0m\u001b[0m\n\u001b[1;32m      2\u001b[0m \u001b[0mfilehandler\u001b[0m \u001b[0;34m=\u001b[0m \u001b[0mopen\u001b[0m\u001b[0;34m(\u001b[0m\u001b[0;34m'fingerprints.obj'\u001b[0m\u001b[0;34m,\u001b[0m \u001b[0;34m'rb'\u001b[0m\u001b[0;34m)\u001b[0m\u001b[0;34m\u001b[0m\u001b[0;34m\u001b[0m\u001b[0m\n\u001b[0;32m----> 3\u001b[0;31m \u001b[0munpickled_fingerprints\u001b[0m \u001b[0;34m=\u001b[0m \u001b[0mpickle\u001b[0m\u001b[0;34m.\u001b[0m\u001b[0mload\u001b[0m\u001b[0;34m(\u001b[0m\u001b[0mfilehandler\u001b[0m\u001b[0;34m)\u001b[0m\u001b[0;34m\u001b[0m\u001b[0;34m\u001b[0m\u001b[0m\n\u001b[0m",
      "\u001b[0;31mUnpicklingError\u001b[0m: NEWOBJ class argument isn't a type object"
     ]
    }
   ],
   "source": [
    "# Read pickle data\n",
    "filehandler = open('fingerprints.obj', 'rb')\n",
    "unpickled_fingerprints = pickle.load(filehandler)"
   ]
  },
  {
   "cell_type": "code",
   "execution_count": null,
   "id": "portable-prize",
   "metadata": {},
   "outputs": [],
   "source": []
  }
 ],
 "metadata": {
  "kernelspec": {
   "display_name": "Python 3",
   "language": "python",
   "name": "python3"
  },
  "language_info": {
   "codemirror_mode": {
    "name": "ipython",
    "version": 3
   },
   "file_extension": ".py",
   "mimetype": "text/x-python",
   "name": "python",
   "nbconvert_exporter": "python",
   "pygments_lexer": "ipython3",
   "version": "3.8.5"
  }
 },
 "nbformat": 4,
 "nbformat_minor": 5
}
