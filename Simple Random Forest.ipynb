{
 "cells": [
  {
   "cell_type": "markdown",
   "id": "complete-ordinance",
   "metadata": {},
   "source": [
    "### Good web pages to use\n",
    "<ul>\n",
    "    <li><b>train_test_split:</b> https://scikit-learn.org/stable/modules/generated/sklearn.model_selection.train_test_split.html </li>\n",
    "    <li><b>RandomForestClassifier:</b> https://scikit-learn.org/stable/modules/generated/sklearn.ensemble.RandomForestClassifier.html </li>\n",
    "    <li><b>Confusion matrix:</b> https://scikit-learn.org/stable/modules/generated/sklearn.metrics.confusion_matrix.html</li>\n",
    "    <li><b>Use only subset of data:</b> https://pandas.pydata.org/docs/getting_started/intro_tutorials/03_subset_data.html</li>\n",
    "    <li><b>Optimize hyperparameters:</b> https://towardsdatascience.com/optimizing-hyperparameters-in-random-forest-classification-ec7741f9d3f6 </li>\n",
    "</ul>"
   ]
  },
  {
   "cell_type": "code",
   "execution_count": 1,
   "id": "based-bacon",
   "metadata": {},
   "outputs": [],
   "source": [
    "import numpy as np\n",
    "import pandas as pd\n",
    "import matplotlib.pyplot as plt\n",
    "import seaborn as sn\n",
    "from sklearn.model_selection import train_test_split\n",
    "from sklearn.ensemble import RandomForestClassifier\n",
    "from sklearn.metrics import confusion_matrix\n",
    "from sklearn.model_selection import cross_val_score\n",
    "from sklearn.model_selection import validation_curve\n",
    "from sklearn.model_selection import learning_curve"
   ]
  },
  {
   "cell_type": "markdown",
   "id": "timely-retailer",
   "metadata": {},
   "source": [
    "### Pickle version"
   ]
  },
  {
   "cell_type": "code",
   "execution_count": 2,
   "id": "practical-fence",
   "metadata": {
    "scrolled": true
   },
   "outputs": [],
   "source": [
    "df = pd.read_pickle('10_rots.pkl')"
   ]
  },
  {
   "cell_type": "code",
   "execution_count": 3,
   "id": "unable-ivory",
   "metadata": {},
   "outputs": [],
   "source": [
    "# Use only a subset of the images\n",
    "df = df[df[\"Identity\"]<100] # The xx first identities"
   ]
  },
  {
   "cell_type": "code",
   "execution_count": 4,
   "id": "departmental-income",
   "metadata": {
    "scrolled": true
   },
   "outputs": [
    {
     "data": {
      "text/plain": [
       "Image       [255, 255, 255, 255, 255, 255, 255, 255, 255, ...\n",
       "Identity                                                   15\n",
       "Gender                                                      1\n",
       "Hand                                                        0\n",
       "Finger                                                      4\n",
       "Name: 720, dtype: object"
      ]
     },
     "execution_count": 4,
     "metadata": {},
     "output_type": "execute_result"
    }
   ],
   "source": [
    "df.iloc[100] # Just to check that everything looks fine"
   ]
  },
  {
   "cell_type": "code",
   "execution_count": 3,
   "id": "corporate-bookmark",
   "metadata": {},
   "outputs": [],
   "source": [
    "# Choose which columns to be data (X) and target (y)\n",
    "X_name = \"Image\" # The data to be categorized, should be \"Image\"\n",
    "y_name = \"Identity\" # The target label. In the end, Identity\n",
    "X = list(df[X_name])\n",
    "y = df[y_name]"
   ]
  },
  {
   "cell_type": "code",
   "execution_count": null,
   "id": "popular-composition",
   "metadata": {},
   "outputs": [],
   "source": [
    "np.shape(X) # Should be ([number of images], [number of pixels])"
   ]
  },
  {
   "cell_type": "markdown",
   "id": "chicken-latvia",
   "metadata": {},
   "source": [
    "### .csv version\n",
    "Not finished. X has to be made into a list of integer lists. Currently consists of strings."
   ]
  },
  {
   "cell_type": "code",
   "execution_count": 6,
   "id": "improving-residence",
   "metadata": {},
   "outputs": [],
   "source": [
    "df = pd.read_csv('images2.csv')"
   ]
  },
  {
   "cell_type": "code",
   "execution_count": 7,
   "id": "colored-preparation",
   "metadata": {
    "scrolled": false
   },
   "outputs": [
    {
     "data": {
      "text/html": [
       "<div>\n",
       "<style scoped>\n",
       "    .dataframe tbody tr th:only-of-type {\n",
       "        vertical-align: middle;\n",
       "    }\n",
       "\n",
       "    .dataframe tbody tr th {\n",
       "        vertical-align: top;\n",
       "    }\n",
       "\n",
       "    .dataframe thead th {\n",
       "        text-align: right;\n",
       "    }\n",
       "</style>\n",
       "<table border=\"1\" class=\"dataframe\">\n",
       "  <thead>\n",
       "    <tr style=\"text-align: right;\">\n",
       "      <th></th>\n",
       "      <th>Image</th>\n",
       "      <th>Identity</th>\n",
       "      <th>Gender</th>\n",
       "      <th>Hand</th>\n",
       "      <th>Finger</th>\n",
       "    </tr>\n",
       "  </thead>\n",
       "  <tbody>\n",
       "    <tr>\n",
       "      <th>0</th>\n",
       "      <td>[160 156 156 ...   0   0   0]</td>\n",
       "      <td>229</td>\n",
       "      <td>0</td>\n",
       "      <td>0</td>\n",
       "      <td>2</td>\n",
       "    </tr>\n",
       "    <tr>\n",
       "      <th>1</th>\n",
       "      <td>[160 156 156 ...   0   0   0]</td>\n",
       "      <td>169</td>\n",
       "      <td>1</td>\n",
       "      <td>1</td>\n",
       "      <td>4</td>\n",
       "    </tr>\n",
       "    <tr>\n",
       "      <th>2</th>\n",
       "      <td>[160 156 156 ...   0   0   0]</td>\n",
       "      <td>356</td>\n",
       "      <td>0</td>\n",
       "      <td>0</td>\n",
       "      <td>4</td>\n",
       "    </tr>\n",
       "    <tr>\n",
       "      <th>3</th>\n",
       "      <td>[160 156 156 ...   0   0   0]</td>\n",
       "      <td>352</td>\n",
       "      <td>0</td>\n",
       "      <td>0</td>\n",
       "      <td>3</td>\n",
       "    </tr>\n",
       "    <tr>\n",
       "      <th>4</th>\n",
       "      <td>[160 156 156 ...   0   0   0]</td>\n",
       "      <td>406</td>\n",
       "      <td>0</td>\n",
       "      <td>0</td>\n",
       "      <td>1</td>\n",
       "    </tr>\n",
       "  </tbody>\n",
       "</table>\n",
       "</div>"
      ],
      "text/plain": [
       "                           Image  Identity  Gender  Hand  Finger\n",
       "0  [160 156 156 ...   0   0   0]       229       0     0       2\n",
       "1  [160 156 156 ...   0   0   0]       169       1     1       4\n",
       "2  [160 156 156 ...   0   0   0]       356       0     0       4\n",
       "3  [160 156 156 ...   0   0   0]       352       0     0       3\n",
       "4  [160 156 156 ...   0   0   0]       406       0     0       1"
      ]
     },
     "execution_count": 7,
     "metadata": {},
     "output_type": "execute_result"
    }
   ],
   "source": [
    "df.head() # Just to check that everything looks fine"
   ]
  },
  {
   "cell_type": "code",
   "execution_count": 8,
   "id": "danish-correspondence",
   "metadata": {},
   "outputs": [],
   "source": [
    "# Choose which columns to be data (X) and target (y)\n",
    "X_name = \"Image\" # The data to be categorized, should be \"Image\"\n",
    "y_name = \"Finger\" # The target label. In the end, identity\n",
    "X = list(df[X_name])\n",
    "y = df[y_name]"
   ]
  },
  {
   "cell_type": "code",
   "execution_count": 9,
   "id": "negative-kennedy",
   "metadata": {},
   "outputs": [],
   "source": [
    "# Make X a list of integer lists instead of strings"
   ]
  },
  {
   "cell_type": "code",
   "execution_count": 10,
   "id": "demanding-entry",
   "metadata": {},
   "outputs": [
    {
     "data": {
      "text/plain": [
       "(6000,)"
      ]
     },
     "execution_count": 10,
     "metadata": {},
     "output_type": "execute_result"
    }
   ],
   "source": [
    "np.shape(X) # Should be ([number of images], [number of pixels])"
   ]
  },
  {
   "cell_type": "markdown",
   "id": "increasing-discharge",
   "metadata": {},
   "source": [
    "## Data fitting"
   ]
  },
  {
   "cell_type": "code",
   "execution_count": 4,
   "id": "technological-navigation",
   "metadata": {},
   "outputs": [],
   "source": [
    "# Divide into training and test sets\n",
    "X_train, X_test, y_train, y_test = train_test_split(X,y,test_size=0.2)"
   ]
  },
  {
   "cell_type": "code",
   "execution_count": 5,
   "id": "exempt-india",
   "metadata": {},
   "outputs": [],
   "source": [
    "# Create the model. See link above for default values of parameters\n",
    "model = RandomForestClassifier(n_estimators=100) # Larger n_estimators takes longer to calculate"
   ]
  },
  {
   "cell_type": "code",
   "execution_count": null,
   "id": "revolutionary-stockholm",
   "metadata": {},
   "outputs": [],
   "source": [
    "# Build a forest of trees from the training set (X_train, y_train).\n",
    "model.fit(X_train,y_train) # Sample weight can be added, but shouldn't be necessary in our case"
   ]
  },
  {
   "cell_type": "code",
   "execution_count": null,
   "id": "planned-music",
   "metadata": {},
   "outputs": [],
   "source": [
    "# Return the mean accuracy on the given test data and labels.\n",
    "# Preferrably as close to 1 as possible. Can be improved by tweaking\n",
    "# n_estimators above\n",
    "model.score(X_test,y_test)"
   ]
  },
  {
   "cell_type": "markdown",
   "id": "funny-sugar",
   "metadata": {},
   "source": [
    "### Cross-validation"
   ]
  },
  {
   "cell_type": "code",
   "execution_count": 9,
   "id": "pharmaceutical-pledge",
   "metadata": {},
   "outputs": [
    {
     "name": "stdout",
     "output_type": "stream",
     "text": [
      "0.72 accuracy with a standard deviation of 0.01\n"
     ]
    }
   ],
   "source": [
    "scores = cross_val_score(model,X,y, cv=5) # Default 5-fold cross validation\n",
    "print(\"%0.2f accuracy with a standard deviation of %0.2f\" % (scores.mean(), scores.std()))"
   ]
  },
  {
   "cell_type": "markdown",
   "id": "surprising-morgan",
   "metadata": {},
   "source": [
    "## Find optimal number of trees\n",
    "Documentation for validation curve: https://scikit-learn.org/stable/modules/generated/sklearn.model_selection.validation_curve.html?highlight=validation%20curve#sklearn.model_selection.validation_curve"
   ]
  },
  {
   "cell_type": "code",
   "execution_count": 14,
   "id": "every-array",
   "metadata": {},
   "outputs": [],
   "source": [
    "def get_cval(ntrees_list):\n",
    "    \"\"\"\n",
    "    ntrees_list is a list of number of trees to try. Returns list of accuracies and standard deviations from\n",
    "    cross validation.\n",
    "    Uses previously generated train-test-split.\n",
    "    \"\"\"\n",
    "    cval_list = []\n",
    "    for n in ntrees_list:\n",
    "        model = RandomForestClassifier(n_estimators=n)\n",
    "        model.fit(X_train,y_train)\n",
    "        scores = cross_val_score(model,X,y, cv=5)\n",
    "        cval_list.append([scores.mean(),scores.std()])\n",
    "    return cval_list"
   ]
  },
  {
   "cell_type": "code",
   "execution_count": 15,
   "id": "transsexual-press",
   "metadata": {},
   "outputs": [
    {
     "data": {
      "image/png": "[encoded data removed]",
      "text/plain": [
       "<Figure size 432x288 with 1 Axes>"
      ]
     },
     "metadata": {
      "needs_background": "light"
     },
     "output_type": "display_data"
    }
   ],
   "source": [
    "ntrees_list = np.arange(10,101,10)\n",
    "cval_list = get_cval(ntrees_list)\n",
    "plt.figure()\n",
    "plt.plot(ntrees_list, [i[0] for i in cval_list], ntrees_list, [i[1] for i in cval_list])\n",
    "plt.show()"
   ]
  },
  {
   "cell_type": "code",
   "execution_count": null,
   "id": "synthetic-physiology",
   "metadata": {},
   "outputs": [],
   "source": [
    "print(cval_list)"
   ]
  },
  {
   "cell_type": "markdown",
   "id": "bizarre-stone",
   "metadata": {},
   "source": [
    "### Find good enough number of rotations of images\n"
   ]
  },
  {
   "cell_type": "code",
   "execution_count": 3,
   "id": "ecological-branch",
   "metadata": {},
   "outputs": [],
   "source": [
    "gdf = df.groupby([\"Identity\",\"Finger\",\"Hand\"])#.head(5)\n",
    "model = RandomForestClassifier(n_estimators=50)"
   ]
  },
  {
   "cell_type": "code",
   "execution_count": null,
   "id": "extra-stewart",
   "metadata": {},
   "outputs": [],
   "source": [
    "nrots = list(range(1,11,5))\n",
    "mean_cv_score = []\n",
    "\n",
    "# Choose which columns to be data (X) and target (y)\n",
    "X_name = \"Image\" # The data to be categorized, should be \"Image\"\n",
    "y_name = \"Identity\" # The target label. In the end, Identity\n",
    "\n",
    "for n in nrots:\n",
    "    new_df = gdf.head(n)\n",
    "    X = list(new_df[X_name])\n",
    "    y = new_df[y_name]\n",
    "    scores = cross_val_score(model,X,y, cv=5)\n",
    "    mean_cv_score_cv_score.append(scores.mean())"
   ]
  },
  {
   "cell_type": "markdown",
   "id": "fewer-medication",
   "metadata": {},
   "source": [
    "## Confusion matrix\n",
    "#### Some explanations\n",
    "##### predict(X_test)\n",
    "Predict class for X.<br>\n",
    "The predicted class of an input sample is a vote by the trees in the forest, weighted by their probability estimates. That is, the predicted class is the one with highest mean probability estimate across the trees.\n",
    "##### Percentage or absolute numbers in the matrix\n",
    "Percentage is ok if the distribution is uniform, otherwise not (better [source](https://stats.stackexchange.com/questions/55476/confusion-matrices-with-percentages-rather-than-number-of-instances) for this is needed)."
   ]
  },
  {
   "cell_type": "code",
   "execution_count": 13,
   "id": "promotional-andrews",
   "metadata": {},
   "outputs": [
    {
     "data": {
      "text/plain": [
       "Text(33.0, 0.5, 'Truth')"
      ]
     },
     "execution_count": 13,
     "metadata": {},
     "output_type": "execute_result"
    },
    {
     "data": {
      "image/png": "[encoded data removed]",
      "text/plain": [
       "<Figure size 432x288 with 2 Axes>"
      ]
     },
     "metadata": {
      "needs_background": "light"
     },
     "output_type": "display_data"
    }
   ],
   "source": [
    "# Predict class for X.\n",
    "y_predicted = model.predict(X_test)\n",
    "# Confusion matrix\n",
    "cm = confusion_matrix(y_test, y_predicted, normalize='all') # Remove 'normalize=\"all\"' to get absolute numbers\n",
    "plt.figure()\n",
    "sn.heatmap(cm, annot=True, cmap='RdPu')\n",
    "plt.title('Confusion matrix for prediction of '+y_name.lower())\n",
    "plt.xlabel('Predicted')\n",
    "plt.ylabel('Truth')"
   ]
  },
  {
   "cell_type": "code",
   "execution_count": null,
   "id": "clinical-entry",
   "metadata": {},
   "outputs": [],
   "source": []
  }
 ],
 "metadata": {
  "kernelspec": {
   "display_name": "Python 3",
   "language": "python",
   "name": "python3"
  },
  "language_info": {
   "codemirror_mode": {
    "name": "ipython",
    "version": 3
   },
   "file_extension": ".py",
   "mimetype": "text/x-python",
   "name": "python",
   "nbconvert_exporter": "python",
   "pygments_lexer": "ipython3",
   "version": "3.8.5"
  }
 },
 "nbformat": 4,
 "nbformat_minor": 5
}
