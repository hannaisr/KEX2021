{
 "cells": [
  {
   "cell_type": "code",
   "execution_count": 2,
   "id": "junior-prevention",
   "metadata": {},
   "outputs": [],
   "source": [
    "import numpy as np\n",
    "import pandas as pd\n",
    "from sklearn.model_selection import train_test_split\n",
    "from sklearn.ensemble import RandomForestClassifier\n",
    "import matplotlib.pyplot as plt\n",
    "import seaborn as sn\n",
    "from sklearn.metrics import confusion_matrix\n",
    "from sklearn.model_selection import cross_val_score"
   ]
  },
  {
   "cell_type": "code",
   "execution_count": 3,
   "id": "simple-hostel",
   "metadata": {},
   "outputs": [],
   "source": [
    "plt.rcParams[\"font.family\"] = \"serif\"\n",
    "plt.rcParams[\"font.size\"] = 11"
   ]
  },
  {
   "cell_type": "code",
   "execution_count": 11,
   "id": "impossible-portland",
   "metadata": {},
   "outputs": [],
   "source": [
    "# Read the data file\n",
    "df = pd.read_pickle('10_first_ppl_100_rots.pkl')"
   ]
  },
  {
   "cell_type": "code",
   "execution_count": 10,
   "id": "identified-strengthening",
   "metadata": {},
   "outputs": [],
   "source": [
    "# --------------------------------------\n",
    "# SECOND STAGE MODEL TRAINING\n",
    "# --------------------------------------\n",
    "\n",
    "model2 = []   # For storing trained models\n",
    "X_train2 = [0]*5   # For storing training images, sorted by finger\n",
    "X_test2 = [0]*5   # For storing testing images, sorted by finger\n",
    "y_train2 = [0]*5   # For storing training identities, sorted by finger\n",
    "y_test2 = [0]*5   # For storing testing identities, sorted by finger\n",
    "\n",
    "for i in range(0,5):\n",
    "    X = list(df[df.Finger==i][\"Image\"])\n",
    "    y = df[df.Finger==i][\"Identity\"]\n",
    "    X_train2[i], X_test2[i], y_train2[i], y_test2[i] = train_test_split(X,y,test_size=0.2)\n",
    "    model2.append(RandomForestClassifier())\n",
    "    model2[i].fit(X_train2[i],y_train2[i])\n",
    "    \n",
    "# --------------------------------------\n",
    "# END OF SECOND STAGE MODEL TRAINING\n",
    "# --------------------------------------"
   ]
  },
  {
   "cell_type": "code",
   "execution_count": 12,
   "id": "efficient-nicaragua",
   "metadata": {},
   "outputs": [
    {
     "data": {
      "text/plain": [
       "RandomForestClassifier()"
      ]
     },
     "execution_count": 12,
     "metadata": {},
     "output_type": "execute_result"
    }
   ],
   "source": [
    "# -------------------------------------\n",
    "# FIRST STAGE MODEL TRAINING\n",
    "# -------------------------------------\n",
    "X_train = []\n",
    "X_test = []\n",
    "for i in range(len(X_train2)):\n",
    "    X_train += X_train2[i]\n",
    "for i in range(len(X_test2)):\n",
    "    X_test += X_test2[i]\n",
    "y_train_id = pd.concat(y_train2)\n",
    "y_test_id = pd.concat(y_test2)\n",
    "y_train = [] # Finger\n",
    "y_test = [] # Finger\n",
    "\n",
    "for i in range(len(y_train_id)):\n",
    "    j = y_train_id.index[i]\n",
    "    y_train.append([df[\"Finger\"][j],j])\n",
    "for i in range(len(y_test_id)):\n",
    "    j = y_test_id.index[i]\n",
    "    y_test.append([df[\"Finger\"][j],j])\n",
    "    \n",
    "y_train_indexfree = [i[0] for i in y_train]\n",
    "\n",
    "model_finger = RandomForestClassifier()\n",
    "model_finger.fit(X_train,y_train_indexfree) # Fit the model fo training data\n",
    "# -------------------------------------\n",
    "# END OF FIRST STAGE MODEL TRAINING\n",
    "# -------------------------------------"
   ]
  },
  {
   "cell_type": "code",
   "execution_count": 45,
   "id": "hundred-stuff",
   "metadata": {},
   "outputs": [],
   "source": [
    "# --------------------------------------\n",
    "# MODEL IMPLEMENTATION\n",
    "# --------------------------------------\n",
    "pred_finger = model_finger.predict(X_test)\n",
    "\n",
    "X_pred = [[] for _ in range(5)]  # Images sorted by predicted finger\n",
    "y_true = [[] for _ in range(5)]  # True identities sorted by predicted finger\n",
    "\n",
    "\n",
    "for i in range(len(pred_finger)):\n",
    "    finger = pred_finger[i]\n",
    "    X_pred[finger].append(X_test[i])\n",
    "    index = y_test[i][1]\n",
    "    y_true[finger].append(df[\"Identity\"][index])\n",
    "\n",
    "pred_id = [[] for _ in range(5)]\n",
    "\n",
    "for i in range(5):\n",
    "    pred_id[i] = model2[i].predict(X_pred[i])\n",
    "# --------------------------------------\n",
    "# END OF MODEL IMPLEMENTATION\n",
    "# --------------------------------------"
   ]
  },
  {
   "cell_type": "code",
   "execution_count": 48,
   "id": "continental-cedar",
   "metadata": {
    "scrolled": false
   },
   "outputs": [
    {
     "name": "stdout",
     "output_type": "stream",
     "text": [
      "Accuracy: 0.2825\n",
      "Successful predictions: 565\n"
     ]
    }
   ],
   "source": [
    "# --------------------------------------\n",
    "# EVALUATION OF RESULTS\n",
    "# --------------------------------------\n",
    "# Calculate accuracy\n",
    "succs = 0  # Number of successful predictions\n",
    "for i in range(len(pred_id)):\n",
    "    for j in range(len(pred_id[i])):\n",
    "        if pred_id[i][j] == y_true[i][j]:\n",
    "            succs+=1\n",
    "print(\"Accuracy: \" + str(succs/len(X_test)))\n",
    "print(\"Successful predictions: \" + str(succs))\n",
    "# --------------------------------------\n",
    "# END OF EVALUATION OF RESULTS\n",
    "# --------------------------------------"
   ]
  },
  {
   "cell_type": "markdown",
   "id": "automated-spanish",
   "metadata": {},
   "source": [
    "#### 10_first_ppl_100_rots, gender\n",
    "0.09700000000000007\n",
    "0\n",
    "0.09700000000000007\n",
    "\n",
    "0.10450000000000008\n",
    "0\n",
    "0.10450000000000008"
   ]
  },
  {
   "cell_type": "code",
   "execution_count": 54,
   "id": "republican-indication",
   "metadata": {},
   "outputs": [
    {
     "data": {
      "text/plain": [
       "array([9, 4, 8, ..., 7, 8, 8])"
      ]
     },
     "execution_count": 54,
     "metadata": {},
     "output_type": "execute_result"
    }
   ],
   "source": [
    "np.concatenate(y_true)"
   ]
  },
  {
   "cell_type": "code",
   "execution_count": 49,
   "id": "extensive-copyright",
   "metadata": {
    "scrolled": true
   },
   "outputs": [
    {
     "ename": "NameError",
     "evalue": "name 'pred_lid' is not defined",
     "output_type": "error",
     "traceback": [
      "\u001b[0;31m---------------------------------------------------------------------------\u001b[0m",
      "\u001b[0;31mNameError\u001b[0m                                 Traceback (most recent call last)",
      "\u001b[0;32m<ipython-input-49-845944ea9afb>\u001b[0m in \u001b[0;36m<module>\u001b[0;34m\u001b[0m\n\u001b[0;32m----> 1\u001b[0;31m \u001b[0mpred_id\u001b[0m \u001b[0;34m=\u001b[0m \u001b[0mnp\u001b[0m\u001b[0;34m.\u001b[0m\u001b[0mconcatenate\u001b[0m\u001b[0;34m(\u001b[0m\u001b[0;34m(\u001b[0m\u001b[0mpred_lid\u001b[0m\u001b[0;34m,\u001b[0m\u001b[0mpred_rid\u001b[0m\u001b[0;34m)\u001b[0m\u001b[0;34m)\u001b[0m\u001b[0;34m\u001b[0m\u001b[0;34m\u001b[0m\u001b[0m\n\u001b[0m\u001b[1;32m      2\u001b[0m \u001b[0my_both\u001b[0m \u001b[0;34m=\u001b[0m \u001b[0mnp\u001b[0m\u001b[0;34m.\u001b[0m\u001b[0mconcatenate\u001b[0m\u001b[0;34m(\u001b[0m\u001b[0;34m(\u001b[0m\u001b[0my_lh\u001b[0m\u001b[0;34m,\u001b[0m\u001b[0my_rh\u001b[0m\u001b[0;34m)\u001b[0m\u001b[0;34m)\u001b[0m\u001b[0;34m\u001b[0m\u001b[0;34m\u001b[0m\u001b[0m\n",
      "\u001b[0;31mNameError\u001b[0m: name 'pred_lid' is not defined"
     ]
    }
   ],
   "source": [
    "pred_id = np.concatenate(pred_id)\n",
    "y_true = np.concatenate(y_tr"
   ]
  },
  {
   "cell_type": "code",
   "execution_count": 23,
   "id": "invisible-irish",
   "metadata": {},
   "outputs": [
    {
     "data": {
      "text/plain": [
       "Text(33.0, 0.5, 'Truth')"
      ]
     },
     "execution_count": 23,
     "metadata": {},
     "output_type": "execute_result"
    },
    {
     "data": {
      "image/png": "[encoded data removed]",
      "text/plain": [
       "<Figure size 432x288 with 2 Axes>"
      ]
     },
     "metadata": {
      "needs_background": "light"
     },
     "output_type": "display_data"
    }
   ],
   "source": [
    "# Confusion matrix\n",
    "cm = confusion_matrix(pred_id, y_both, normalize='all') # Remove 'normalize=\"all\"' to get absolute numbers\n",
    "plt.figure()\n",
    "sn.heatmap(cm, annot=False, cmap='RdPu')\n",
    "# plt.title('Confusion matrix for 2-stage prediction of identity')\n",
    "plt.xlabel('Predicted')\n",
    "plt.ylabel('Truth')"
   ]
  },
  {
   "cell_type": "code",
   "execution_count": null,
   "id": "relative-bedroom",
   "metadata": {},
   "outputs": [],
   "source": []
  }
 ],
 "metadata": {
  "kernelspec": {
   "display_name": "Python 3",
   "language": "python",
   "name": "python3"
  },
  "language_info": {
   "codemirror_mode": {
    "name": "ipython",
    "version": 3
   },
   "file_extension": ".py",
   "mimetype": "text/x-python",
   "name": "python",
   "nbconvert_exporter": "python",
   "pygments_lexer": "ipython3",
   "version": "3.8.5"
  }
 },
 "nbformat": 4,
 "nbformat_minor": 5
}
