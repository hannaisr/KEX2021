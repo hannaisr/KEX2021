{
 "cells": [
  {
   "cell_type": "code",
   "execution_count": 1,
   "id": "junior-prevention",
   "metadata": {},
   "outputs": [],
   "source": [
    "import numpy as np\n",
    "import pandas as pd\n",
    "import matplotlib.pyplot as plt\n",
    "import seaborn as sn\n",
    "from sklearn.model_selection import train_test_split\n",
    "from sklearn.ensemble import RandomForestClassifier\n",
    "from sklearn.metrics import confusion_matrix\n",
    "from sklearn.model_selection import cross_val_score"
   ]
  },
  {
   "cell_type": "code",
   "execution_count": 2,
   "id": "impossible-portland",
   "metadata": {},
   "outputs": [],
   "source": [
    "# Read the data file\n",
    "df = pd.read_pickle('100_fingerprints_expanded_dataset.pkl')"
   ]
  },
  {
   "cell_type": "code",
   "execution_count": 3,
   "id": "identified-strengthening",
   "metadata": {},
   "outputs": [
    {
     "data": {
      "text/plain": [
       "RandomForestClassifier()"
      ]
     },
     "execution_count": 3,
     "metadata": {},
     "output_type": "execute_result"
    }
   ],
   "source": [
    "# --------------------------------------\n",
    "# SECOND STAGE MODEL TRAINING\n",
    "# --------------------------------------\n",
    "# Split training data into separate sets for right and left hand\n",
    "dflh = df[df.Hand==0]\n",
    "dfrh = df[df.Hand==1]\n",
    "\n",
    "# Left hand training\n",
    "Xlh = list(dflh[\"Image\"])\n",
    "ylh = dflh[\"Identity\"]\n",
    "X_trainlh, X_testlh, y_trainlh, y_testlh = train_test_split(Xlh,ylh,test_size=0.2) # ERROR! Wrong use of training set.\n",
    "model_lid = RandomForestClassifier() # \"lid\" short for \"left hand, identity\"\n",
    "model_lid.fit(X_trainlh,y_trainlh)\n",
    "\n",
    "# Right hand training\n",
    "Xrh = list(dfrh[\"Image\"])\n",
    "yrh = dfrh[\"Identity\"]\n",
    "X_trainrh, X_testrh, y_trainrh, y_testrh = train_test_split(Xrh,yrh,test_size=0.2)\n",
    "model_rid = RandomForestClassifier() # \"rid\" short for \"right hand, identity\"\n",
    "model_rid.fit(X_trainrh,y_trainrh)\n",
    "# --------------------------------------\n",
    "# END OF SECOND STAGE MODEL TRAINING\n",
    "# --------------------------------------"
   ]
  },
  {
   "cell_type": "code",
   "execution_count": 4,
   "id": "dramatic-acquisition",
   "metadata": {},
   "outputs": [],
   "source": [
    "# -------------------------------------\n",
    "# FIRST STAGE MODEL TRAINING\n",
    "# -------------------------------------\n",
    "X_train = X_trainlh+X_trainrh\n",
    "X_test = X_testlh+X_testrh\n",
    "ytr = pd.concat([y_trainrh,y_trainlh])\n",
    "yte = pd.concat([y_testrh,y_testlh])\n",
    "y_train = []\n",
    "y_test = []"
   ]
  },
  {
   "cell_type": "code",
   "execution_count": 5,
   "id": "binding-double",
   "metadata": {},
   "outputs": [],
   "source": [
    "for i in range(len(ytr)):\n",
    "    j = ytr.index[i]\n",
    "    y_train.append([df[\"Hand\"][j],j])"
   ]
  },
  {
   "cell_type": "code",
   "execution_count": 7,
   "id": "dirty-aurora",
   "metadata": {},
   "outputs": [],
   "source": [
    "for i in range(len(yte)):\n",
    "    j = yte.index[i]\n",
    "    y_test.append([df[\"Hand\"][j],j])"
   ]
  },
  {
   "cell_type": "code",
   "execution_count": 16,
   "id": "patient-vulnerability",
   "metadata": {},
   "outputs": [],
   "source": [
    "y_train_indexfree = [i[0] for i in y_train]"
   ]
  },
  {
   "cell_type": "code",
   "execution_count": 11,
   "id": "massive-mercury",
   "metadata": {},
   "outputs": [
    {
     "data": {
      "text/plain": [
       "RandomForestClassifier()"
      ]
     },
     "execution_count": 11,
     "metadata": {},
     "output_type": "execute_result"
    }
   ],
   "source": [
    "model_hand = RandomForestClassifier()\n",
    "model_hand.fit(X_train,y_train_indexfree) # Fit the model fo training data\n",
    "# -------------------------------------\n",
    "# END OF FIRST STAGE MODEL TRAINING\n",
    "# -------------------------------------"
   ]
  },
  {
   "cell_type": "code",
   "execution_count": 13,
   "id": "hundred-stuff",
   "metadata": {},
   "outputs": [],
   "source": [
    "# --------------------------------------\n",
    "# MODEL IMPLEMENTATION\n",
    "# --------------------------------------\n",
    "pred_hand = model_hand.predict(X_test)\n",
    "\n",
    "X_lh = []\n",
    "y_lh = []\n",
    "X_rh = []\n",
    "y_rh = []\n",
    "\n",
    "for i in range(len(pred_hand)):\n",
    "    if pred_hand[i]==0:\n",
    "        X_lh.append(X_test[i])\n",
    "        j = y_test[i][1]\n",
    "        y_lh.append(df[\"Identity\"][j])\n",
    "    else:\n",
    "        X_rh.append(X_test[i])\n",
    "        j = y_test[i][1]\n",
    "        y_rh.append(df[\"Identity\"][j])\n",
    "        \n",
    "pred_lid = model_lid.predict(X_lh)\n",
    "pred_rid = model_rid.predict(X_rh)\n",
    "# --------------------------------------\n",
    "# END OF MODEL IMPLEMENTATION\n",
    "# --------------------------------------"
   ]
  },
  {
   "cell_type": "code",
   "execution_count": 19,
   "id": "congressional-cement",
   "metadata": {},
   "outputs": [
    {
     "data": {
      "text/plain": [
       "array([ 54, 284,  86, ..., 462,  77,  54])"
      ]
     },
     "execution_count": 19,
     "metadata": {},
     "output_type": "execute_result"
    }
   ],
   "source": [
    "pred_lid"
   ]
  },
  {
   "cell_type": "code",
   "execution_count": 18,
   "id": "continental-cedar",
   "metadata": {},
   "outputs": [
    {
     "name": "stdout",
     "output_type": "stream",
     "text": [
      "0.019810508182601216\n",
      "0.019070321811680564\n",
      "0.019500000000000014\n"
     ]
    }
   ],
   "source": [
    "# --------------------------------------\n",
    "# EVALUATION OF RESULTS\n",
    "# --------------------------------------\n",
    "# Calculate accuracy\n",
    "len_lh = len(pred_lid)\n",
    "len_rh = len(pred_rid)\n",
    "score_lh = 0\n",
    "score_rh = 0\n",
    "score_tot = 0\n",
    "for i in range(len_lh):\n",
    "    if pred_lid[i] == y_lh[i]:\n",
    "        score_lh += 1/len_lh\n",
    "        score_tot += 1/(len_lh+len_rh)\n",
    "for i in range(len_rh):\n",
    "    if pred_rid[i] == y_rh[i]:\n",
    "        score_rh += 1/len_rh\n",
    "        score_tot += 1/(len_lh+len_rh)\n",
    "        \n",
    "# Print the result\n",
    "print(score_lh)\n",
    "print(score_rh)\n",
    "print(score_tot)\n",
    "# --------------------------------------\n",
    "# END OF EVALUATION OF RESULTS\n",
    "# --------------------------------------"
   ]
  },
  {
   "cell_type": "code",
   "execution_count": null,
   "id": "invisible-irish",
   "metadata": {},
   "outputs": [],
   "source": []
  }
 ],
 "metadata": {
  "kernelspec": {
   "display_name": "Python 3",
   "language": "python",
   "name": "python3"
  },
  "language_info": {
   "codemirror_mode": {
    "name": "ipython",
    "version": 3
   },
   "file_extension": ".py",
   "mimetype": "text/x-python",
   "name": "python",
   "nbconvert_exporter": "python",
   "pygments_lexer": "ipython3",
   "version": "3.8.5"
  }
 },
 "nbformat": 4,
 "nbformat_minor": 5
}
