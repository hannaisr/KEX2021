{
 "cells": [
  {
   "cell_type": "markdown",
   "id": "completed-mortality",
   "metadata": {},
   "source": [
    "# Method for storing the dataset\n",
    "Store as pandas DataFrame"
   ]
  },
  {
   "cell_type": "code",
   "execution_count": 25,
   "id": "portuguese-toner",
   "metadata": {},
   "outputs": [],
   "source": [
    "import numpy as np\n",
    "import matplotlib.pyplot as plt\n",
    "import cv2\n",
    "import os\n",
    "import pandas as pd\n",
    "\n",
    "DATADIR = \"/home/hanna/Documents/KEX/SoCoF/archive/SOCOFing/Real\"\n",
    "IMG_SIZE = 100"
   ]
  },
  {
   "cell_type": "code",
   "execution_count": 4,
   "id": "healthy-tenant",
   "metadata": {},
   "outputs": [],
   "source": [
    "feat_dict = {\n",
    "    \"M\" : 0,\n",
    "    \"F\" : 1,\n",
    "    \"Left\" : 0,\n",
    "    \"Right\" : 1,\n",
    "    \"thumb\" : 0,\n",
    "    \"index\" : 1,\n",
    "    \"middle\" : 2,\n",
    "    \"ring\" : 3,\n",
    "    \"little\" : 4\n",
    "    }"
   ]
  },
  {
   "cell_type": "code",
   "execution_count": 20,
   "id": "sharp-fishing",
   "metadata": {},
   "outputs": [],
   "source": [
    "def get_attributes(img):\n",
    "    split_img = img.split('_')\n",
    "    idty = split_img[0]\n",
    "    gend = feat_dict[split_img[2]]\n",
    "    hand = feat_dict[split_img[3]]\n",
    "    fing = feat_dict[split_img[4]]\n",
    "    return idty,gend,hand,fing"
   ]
  },
  {
   "cell_type": "code",
   "execution_count": 21,
   "id": "combined-belize",
   "metadata": {},
   "outputs": [],
   "source": [
    "def create_training_data():\n",
    "    training_data = []\n",
    "    for img in os.listdir(DATADIR):\n",
    "        img_array = cv2.imread(os.path.join(DATADIR,img), cv2.IMREAD_GRAYSCALE)\n",
    "        new_array = cv2.resize(img_array, (IMG_SIZE, IMG_SIZE))\n",
    "        idty,gend,hand,fing = get_attributes(img)\n",
    "        training_data.append([new_array,idty,gend,hand,fing])\n",
    "    return(training_data)"
   ]
  },
  {
   "cell_type": "code",
   "execution_count": 22,
   "id": "difficult-theology",
   "metadata": {},
   "outputs": [],
   "source": [
    "training_data = create_training_data()"
   ]
  },
  {
   "cell_type": "code",
   "execution_count": 23,
   "id": "brave-abraham",
   "metadata": {},
   "outputs": [
    {
     "name": "stdout",
     "output_type": "stream",
     "text": [
      "6000\n"
     ]
    }
   ],
   "source": [
    "print(len(training_data))"
   ]
  },
  {
   "cell_type": "code",
   "execution_count": 27,
   "id": "settled-death",
   "metadata": {},
   "outputs": [],
   "source": [
    "# Store data in pandas DataFrame\n",
    "df = pd.DataFrame(training_data, columns=[\"Image\",\"Identity\",\"Gender\",\"Hand\",\"Finger\"])"
   ]
  },
  {
   "cell_type": "code",
   "execution_count": 30,
   "id": "prescribed-great",
   "metadata": {},
   "outputs": [],
   "source": [
    "# Save data to csv file \"images.csv\"\n",
    "df.to_csv('images.csv',index=False)"
   ]
  },
  {
   "cell_type": "code",
   "execution_count": 31,
   "id": "figured-infrared",
   "metadata": {},
   "outputs": [
    {
     "data": {
      "text/html": [
       "<div>\n",
       "<style scoped>\n",
       "    .dataframe tbody tr th:only-of-type {\n",
       "        vertical-align: middle;\n",
       "    }\n",
       "\n",
       "    .dataframe tbody tr th {\n",
       "        vertical-align: top;\n",
       "    }\n",
       "\n",
       "    .dataframe thead th {\n",
       "        text-align: right;\n",
       "    }\n",
       "</style>\n",
       "<table border=\"1\" class=\"dataframe\">\n",
       "  <thead>\n",
       "    <tr style=\"text-align: right;\">\n",
       "      <th></th>\n",
       "      <th>Image</th>\n",
       "      <th>Identity</th>\n",
       "      <th>Gender</th>\n",
       "      <th>Hand</th>\n",
       "      <th>Finger</th>\n",
       "    </tr>\n",
       "  </thead>\n",
       "  <tbody>\n",
       "    <tr>\n",
       "      <th>0</th>\n",
       "      <td>[[160 159 159 ...   0   0   0]\\n [160 108 111 ...</td>\n",
       "      <td>229</td>\n",
       "      <td>0</td>\n",
       "      <td>0</td>\n",
       "      <td>2</td>\n",
       "    </tr>\n",
       "    <tr>\n",
       "      <th>1</th>\n",
       "      <td>[[160 159 159 ...   0   0   0]\\n [160 108 111 ...</td>\n",
       "      <td>169</td>\n",
       "      <td>1</td>\n",
       "      <td>1</td>\n",
       "      <td>4</td>\n",
       "    </tr>\n",
       "    <tr>\n",
       "      <th>2</th>\n",
       "      <td>[[160 159 159 ...   0   0   0]\\n [160 108 111 ...</td>\n",
       "      <td>356</td>\n",
       "      <td>0</td>\n",
       "      <td>0</td>\n",
       "      <td>4</td>\n",
       "    </tr>\n",
       "    <tr>\n",
       "      <th>3</th>\n",
       "      <td>[[160 159 159 ...   0   0   0]\\n [160 108 111 ...</td>\n",
       "      <td>352</td>\n",
       "      <td>0</td>\n",
       "      <td>0</td>\n",
       "      <td>3</td>\n",
       "    </tr>\n",
       "    <tr>\n",
       "      <th>4</th>\n",
       "      <td>[[160 159 159 ...   0   0   0]\\n [160 108 111 ...</td>\n",
       "      <td>406</td>\n",
       "      <td>0</td>\n",
       "      <td>0</td>\n",
       "      <td>1</td>\n",
       "    </tr>\n",
       "    <tr>\n",
       "      <th>...</th>\n",
       "      <td>...</td>\n",
       "      <td>...</td>\n",
       "      <td>...</td>\n",
       "      <td>...</td>\n",
       "      <td>...</td>\n",
       "    </tr>\n",
       "    <tr>\n",
       "      <th>5995</th>\n",
       "      <td>[[160 159 159 ...   0   0   0]\\n [160 108 111 ...</td>\n",
       "      <td>314</td>\n",
       "      <td>0</td>\n",
       "      <td>1</td>\n",
       "      <td>2</td>\n",
       "    </tr>\n",
       "    <tr>\n",
       "      <th>5996</th>\n",
       "      <td>[[160 159 159 ...   0   0   0]\\n [160 108 111 ...</td>\n",
       "      <td>254</td>\n",
       "      <td>0</td>\n",
       "      <td>0</td>\n",
       "      <td>2</td>\n",
       "    </tr>\n",
       "    <tr>\n",
       "      <th>5997</th>\n",
       "      <td>[[160 159 159 ...   0   0   0]\\n [160 108 111 ...</td>\n",
       "      <td>441</td>\n",
       "      <td>0</td>\n",
       "      <td>0</td>\n",
       "      <td>3</td>\n",
       "    </tr>\n",
       "    <tr>\n",
       "      <th>5998</th>\n",
       "      <td>[[160 159 159 ...   0   0   0]\\n [160 108 111 ...</td>\n",
       "      <td>137</td>\n",
       "      <td>0</td>\n",
       "      <td>0</td>\n",
       "      <td>3</td>\n",
       "    </tr>\n",
       "    <tr>\n",
       "      <th>5999</th>\n",
       "      <td>[[160 159 159 ...   0   0   0]\\n [160 108 111 ...</td>\n",
       "      <td>212</td>\n",
       "      <td>0</td>\n",
       "      <td>1</td>\n",
       "      <td>4</td>\n",
       "    </tr>\n",
       "  </tbody>\n",
       "</table>\n",
       "<p>6000 rows × 5 columns</p>\n",
       "</div>"
      ],
      "text/plain": [
       "                                                  Image  Identity  Gender  \\\n",
       "0     [[160 159 159 ...   0   0   0]\\n [160 108 111 ...       229       0   \n",
       "1     [[160 159 159 ...   0   0   0]\\n [160 108 111 ...       169       1   \n",
       "2     [[160 159 159 ...   0   0   0]\\n [160 108 111 ...       356       0   \n",
       "3     [[160 159 159 ...   0   0   0]\\n [160 108 111 ...       352       0   \n",
       "4     [[160 159 159 ...   0   0   0]\\n [160 108 111 ...       406       0   \n",
       "...                                                 ...       ...     ...   \n",
       "5995  [[160 159 159 ...   0   0   0]\\n [160 108 111 ...       314       0   \n",
       "5996  [[160 159 159 ...   0   0   0]\\n [160 108 111 ...       254       0   \n",
       "5997  [[160 159 159 ...   0   0   0]\\n [160 108 111 ...       441       0   \n",
       "5998  [[160 159 159 ...   0   0   0]\\n [160 108 111 ...       137       0   \n",
       "5999  [[160 159 159 ...   0   0   0]\\n [160 108 111 ...       212       0   \n",
       "\n",
       "      Hand  Finger  \n",
       "0        0       2  \n",
       "1        1       4  \n",
       "2        0       4  \n",
       "3        0       3  \n",
       "4        0       1  \n",
       "...    ...     ...  \n",
       "5995     1       2  \n",
       "5996     0       2  \n",
       "5997     0       3  \n",
       "5998     0       3  \n",
       "5999     1       4  \n",
       "\n",
       "[6000 rows x 5 columns]"
      ]
     },
     "execution_count": 31,
     "metadata": {},
     "output_type": "execute_result"
    }
   ],
   "source": [
    "# Read file and store the data in DataFrame df\n",
    "df = pd.read_csv('images.csv')"
   ]
  },
  {
   "cell_type": "code",
   "execution_count": null,
   "id": "neural-breathing",
   "metadata": {},
   "outputs": [],
   "source": []
  }
 ],
 "metadata": {
  "kernelspec": {
   "display_name": "Python 3",
   "language": "python",
   "name": "python3"
  },
  "language_info": {
   "codemirror_mode": {
    "name": "ipython",
    "version": 3
   },
   "file_extension": ".py",
   "mimetype": "text/x-python",
   "name": "python",
   "nbconvert_exporter": "python",
   "pygments_lexer": "ipython3",
   "version": "3.8.5"
  }
 },
 "nbformat": 4,
 "nbformat_minor": 5
}
