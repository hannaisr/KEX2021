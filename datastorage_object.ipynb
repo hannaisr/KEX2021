{
 "cells": [
  {
   "cell_type": "markdown",
   "id": "completed-mortality",
   "metadata": {},
   "source": [
    "# Method for storing the dataset as object\n",
    "Using pickle"
   ]
  },
  {
   "cell_type": "code",
   "execution_count": 1,
   "id": "portuguese-toner",
   "metadata": {},
   "outputs": [],
   "source": [
    "import numpy as np\n",
    "import matplotlib.pyplot as plt\n",
    "import cv2\n",
    "import os\n",
    "import pandas as pd\n",
    "import pickle"
   ]
  },
  {
   "cell_type": "code",
   "execution_count": 2,
   "id": "specialized-twenty",
   "metadata": {},
   "outputs": [],
   "source": [
    "DATADIR = \"/home/hanna/Documents/KEX/SoCoF/archive/SOCOFing/Real\" # directory to collect files from\n",
    "IMG_SIZE = 90"
   ]
  },
  {
   "cell_type": "code",
   "execution_count": 3,
   "id": "scheduled-upset",
   "metadata": {},
   "outputs": [],
   "source": [
    "class Fingerprint():\n",
    "    feat_dict = {\n",
    "    \"M\" : 0,\n",
    "    \"F\" : 1,\n",
    "    \"Left\" : 0,\n",
    "    \"Right\" : 1,\n",
    "    \"thumb\" : 0,\n",
    "    \"index\" : 1,\n",
    "    \"middle\" : 2,\n",
    "    \"ring\" : 3,\n",
    "    \"little\" : 4\n",
    "    }\n",
    "    \n",
    "    def __init__(self):\n",
    "        self.data = []\n",
    "        self.identity = []\n",
    "        self.gender = []\n",
    "        self.hand = []\n",
    "        self.finger = []\n",
    "        \n",
    "    def create_training_data(self, DATADIR, IMG_SIZE):\n",
    "        training_data = []\n",
    "        for img in os.listdir(DATADIR):\n",
    "            img_array = cv2.imread(os.path.join(DATADIR,img), cv2.IMREAD_GRAYSCALE)\n",
    "            new_array = cv2.resize(img_array, (IMG_SIZE, IMG_SIZE))\n",
    "            new_array = new_array.flatten() # Flatten the array\n",
    "            idty,gend,hand,fing = self.get_attributes(img)\n",
    "            self.data.append(new_array)\n",
    "            self.identity.append(idty)\n",
    "            self.gender.append(gend)\n",
    "            self.hand.append(hand)\n",
    "            self.finger.append(fing)\n",
    "\n",
    "    def get_attributes(self,img):\n",
    "        split_img = img.split('_')\n",
    "        idty = int(split_img[0])\n",
    "        gend = self.feat_dict[split_img[2]]\n",
    "        hand = self.feat_dict[split_img[3]]\n",
    "        fing = self.feat_dict[split_img[4]]\n",
    "        return idty,gend,hand,fing"
   ]
  },
  {
   "cell_type": "code",
   "execution_count": 4,
   "id": "accredited-corpus",
   "metadata": {},
   "outputs": [],
   "source": [
    "fingerprints = Fingerprint()\n",
    "fingerprints.create_training_data(DATADIR, IMG_SIZE)"
   ]
  },
  {
   "cell_type": "markdown",
   "id": "vietnamese-sleeve",
   "metadata": {},
   "source": [
    "## Pickle"
   ]
  },
  {
   "cell_type": "code",
   "execution_count": 5,
   "id": "hungarian-contents",
   "metadata": {},
   "outputs": [],
   "source": [
    "# Save data as pickle\n",
    "filehandler = open('fingerprints.obj', 'wb')\n",
    "pickle.dump(fingerprints, filehandler)"
   ]
  },
  {
   "cell_type": "code",
   "execution_count": 26,
   "id": "powerful-reflection",
   "metadata": {},
   "outputs": [],
   "source": [
    "# Read pickle data\n",
    "filehandler = open('fingerprints.obj', 'rb')\n",
    "unpickled_fingerprints = pickle.load(filehandler)"
   ]
  },
  {
   "cell_type": "code",
   "execution_count": null,
   "id": "portable-prize",
   "metadata": {},
   "outputs": [],
   "source": []
  }
 ],
 "metadata": {
  "kernelspec": {
   "display_name": "Python 3",
   "language": "python",
   "name": "python3"
  },
  "language_info": {
   "codemirror_mode": {
    "name": "ipython",
    "version": 3
   },
   "file_extension": ".py",
   "mimetype": "text/x-python",
   "name": "python",
   "nbconvert_exporter": "python",
   "pygments_lexer": "ipython3",
   "version": "3.8.5"
  }
 },
 "nbformat": 4,
 "nbformat_minor": 5
}
